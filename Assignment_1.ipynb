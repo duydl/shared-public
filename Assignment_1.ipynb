{
 "cells": [
  {
   "cell_type": "code",
   "execution_count": 4,
   "id": "e9cc44b3",
   "metadata": {},
   "outputs": [],
   "source": [
    "#Load the necessary Python packages\n",
    "import pandas as pd\n",
    "from scipy import stats\n",
    "import numpy as np\n",
    "from scipy.stats import median_test\n",
    "from scipy.stats import rankdata\n",
    "import statsmodels.formula.api as smf\n",
    "\n",
    "import matplotlib.pyplot as plt\n",
    "import matplotlib.ticker as ticker\n",
    "from matplotlib.ticker import FuncFormatter\n",
    "import seaborn as sns\n",
    "\n",
    "import warnings\n",
    "warnings.filterwarnings('ignore')"
   ]
  },
  {
   "cell_type": "code",
   "execution_count": 5,
   "id": "4d51388a",
   "metadata": {},
   "outputs": [
    {
     "data": {
      "text/html": [
       "<div>\n",
       "<style scoped>\n",
       "    .dataframe tbody tr th:only-of-type {\n",
       "        vertical-align: middle;\n",
       "    }\n",
       "\n",
       "    .dataframe tbody tr th {\n",
       "        vertical-align: top;\n",
       "    }\n",
       "\n",
       "    .dataframe thead th {\n",
       "        text-align: right;\n",
       "    }\n",
       "</style>\n",
       "<table border=\"1\" class=\"dataframe\">\n",
       "  <thead>\n",
       "    <tr style=\"text-align: right;\">\n",
       "      <th></th>\n",
       "      <th>id</th>\n",
       "      <th>price</th>\n",
       "      <th>bedrooms</th>\n",
       "      <th>bathrooms</th>\n",
       "      <th>sqm_living</th>\n",
       "      <th>sqm_lot</th>\n",
       "      <th>waterfront</th>\n",
       "    </tr>\n",
       "  </thead>\n",
       "  <tbody>\n",
       "    <tr>\n",
       "      <th>0</th>\n",
       "      <td>1</td>\n",
       "      <td>221900</td>\n",
       "      <td>3</td>\n",
       "      <td>1.00</td>\n",
       "      <td>109.624675</td>\n",
       "      <td>524.897807</td>\n",
       "      <td>0</td>\n",
       "    </tr>\n",
       "    <tr>\n",
       "      <th>1</th>\n",
       "      <td>2</td>\n",
       "      <td>538000</td>\n",
       "      <td>3</td>\n",
       "      <td>2.25</td>\n",
       "      <td>238.758826</td>\n",
       "      <td>672.798216</td>\n",
       "      <td>0</td>\n",
       "    </tr>\n",
       "    <tr>\n",
       "      <th>2</th>\n",
       "      <td>3</td>\n",
       "      <td>180000</td>\n",
       "      <td>2</td>\n",
       "      <td>1.00</td>\n",
       "      <td>71.534745</td>\n",
       "      <td>929.022668</td>\n",
       "      <td>0</td>\n",
       "    </tr>\n",
       "    <tr>\n",
       "      <th>3</th>\n",
       "      <td>4</td>\n",
       "      <td>604000</td>\n",
       "      <td>4</td>\n",
       "      <td>3.00</td>\n",
       "      <td>182.088443</td>\n",
       "      <td>464.511334</td>\n",
       "      <td>0</td>\n",
       "    </tr>\n",
       "    <tr>\n",
       "      <th>4</th>\n",
       "      <td>5</td>\n",
       "      <td>510000</td>\n",
       "      <td>3</td>\n",
       "      <td>2.00</td>\n",
       "      <td>156.075808</td>\n",
       "      <td>750.650316</td>\n",
       "      <td>0</td>\n",
       "    </tr>\n",
       "    <tr>\n",
       "      <th>...</th>\n",
       "      <td>...</td>\n",
       "      <td>...</td>\n",
       "      <td>...</td>\n",
       "      <td>...</td>\n",
       "      <td>...</td>\n",
       "      <td>...</td>\n",
       "      <td>...</td>\n",
       "    </tr>\n",
       "    <tr>\n",
       "      <th>21596</th>\n",
       "      <td>21596</td>\n",
       "      <td>520000</td>\n",
       "      <td>2</td>\n",
       "      <td>2.25</td>\n",
       "      <td>142.140468</td>\n",
       "      <td>91.137124</td>\n",
       "      <td>0</td>\n",
       "    </tr>\n",
       "    <tr>\n",
       "      <th>21597</th>\n",
       "      <td>21597</td>\n",
       "      <td>679950</td>\n",
       "      <td>5</td>\n",
       "      <td>2.75</td>\n",
       "      <td>334.448160</td>\n",
       "      <td>876.718692</td>\n",
       "      <td>0</td>\n",
       "    </tr>\n",
       "    <tr>\n",
       "      <th>21598</th>\n",
       "      <td>21598</td>\n",
       "      <td>1575000</td>\n",
       "      <td>4</td>\n",
       "      <td>3.25</td>\n",
       "      <td>316.796730</td>\n",
       "      <td>940.635452</td>\n",
       "      <td>0</td>\n",
       "    </tr>\n",
       "    <tr>\n",
       "      <th>21599</th>\n",
       "      <td>21599</td>\n",
       "      <td>541800</td>\n",
       "      <td>4</td>\n",
       "      <td>2.50</td>\n",
       "      <td>289.669268</td>\n",
       "      <td>730.769231</td>\n",
       "      <td>0</td>\n",
       "    </tr>\n",
       "    <tr>\n",
       "      <th>21600</th>\n",
       "      <td>21600</td>\n",
       "      <td>810000</td>\n",
       "      <td>4</td>\n",
       "      <td>3.00</td>\n",
       "      <td>370.680045</td>\n",
       "      <td>728.167967</td>\n",
       "      <td>0</td>\n",
       "    </tr>\n",
       "  </tbody>\n",
       "</table>\n",
       "<p>21601 rows × 7 columns</p>\n",
       "</div>"
      ],
      "text/plain": [
       "          id    price  bedrooms  bathrooms  sqm_living     sqm_lot  waterfront\n",
       "0          1   221900         3       1.00  109.624675  524.897807           0\n",
       "1          2   538000         3       2.25  238.758826  672.798216           0\n",
       "2          3   180000         2       1.00   71.534745  929.022668           0\n",
       "3          4   604000         4       3.00  182.088443  464.511334           0\n",
       "4          5   510000         3       2.00  156.075808  750.650316           0\n",
       "...      ...      ...       ...        ...         ...         ...         ...\n",
       "21596  21596   520000         2       2.25  142.140468   91.137124           0\n",
       "21597  21597   679950         5       2.75  334.448160  876.718692           0\n",
       "21598  21598  1575000         4       3.25  316.796730  940.635452           0\n",
       "21599  21599   541800         4       2.50  289.669268  730.769231           0\n",
       "21600  21600   810000         4       3.00  370.680045  728.167967           0\n",
       "\n",
       "[21601 rows x 7 columns]"
      ]
     },
     "execution_count": 5,
     "metadata": {},
     "output_type": "execute_result"
    }
   ],
   "source": [
    "#Import the data from the house_data_2024.csv file and creating a DataFrame to store the imported data\n",
    "data_original=pd.read_csv('house_data_2024.csv')\n",
    "data_original"
   ]
  },
  {
   "cell_type": "markdown",
   "id": "67c7a96d",
   "metadata": {},
   "source": [
    "# Task 1"
   ]
  },
  {
   "cell_type": "markdown",
   "id": "3eec84ef",
   "metadata": {},
   "source": [
    "## Question 1"
   ]
  },
  {
   "cell_type": "markdown",
   "id": "88c4ebe4",
   "metadata": {},
   "source": [
    "### Initial Exploratory Analysis- Original Data"
   ]
  },
  {
   "cell_type": "code",
   "execution_count": 6,
   "id": "8d06abb9",
   "metadata": {},
   "outputs": [
    {
     "name": "stdout",
     "output_type": "stream",
     "text": [
      "<class 'pandas.core.frame.DataFrame'>\n",
      "RangeIndex: 21601 entries, 0 to 21600\n",
      "Data columns (total 7 columns):\n",
      " #   Column      Non-Null Count  Dtype  \n",
      "---  ------      --------------  -----  \n",
      " 0   id          21601 non-null  int64  \n",
      " 1   price       21601 non-null  int64  \n",
      " 2   bedrooms    21601 non-null  int64  \n",
      " 3   bathrooms   21601 non-null  float64\n",
      " 4   sqm_living  21601 non-null  float64\n",
      " 5   sqm_lot     21601 non-null  float64\n",
      " 6   waterfront  21601 non-null  int64  \n",
      "dtypes: float64(3), int64(4)\n",
      "memory usage: 1.2 MB\n"
     ]
    }
   ],
   "source": [
    "#Inspecting the data structure of the DataFrame\n",
    "data_original.info()"
   ]
  },
  {
   "cell_type": "markdown",
   "id": "2f54631b",
   "metadata": {},
   "source": [
    "There are 21601 observations and 7 variables in the data set (including 1 dependent variable - Price, and 6 independent variables (predictors)) \n",
    "\n",
    "It also appears that the data set does not contain any null (missing values) as the number of non-null values in each column is the same as the number of observations (21601) included in the data set.\n",
    "\n",
    "There are no categorical variables in the data set, as all variables are either of integer or floating type."
   ]
  },
  {
   "cell_type": "code",
   "execution_count": 7,
   "id": "e455bd32",
   "metadata": {},
   "outputs": [
    {
     "data": {
      "text/html": [
       "<div>\n",
       "<style scoped>\n",
       "    .dataframe tbody tr th:only-of-type {\n",
       "        vertical-align: middle;\n",
       "    }\n",
       "\n",
       "    .dataframe tbody tr th {\n",
       "        vertical-align: top;\n",
       "    }\n",
       "\n",
       "    .dataframe thead th {\n",
       "        text-align: right;\n",
       "    }\n",
       "</style>\n",
       "<table border=\"1\" class=\"dataframe\">\n",
       "  <thead>\n",
       "    <tr style=\"text-align: right;\">\n",
       "      <th></th>\n",
       "      <th>id</th>\n",
       "      <th>price</th>\n",
       "      <th>bedrooms</th>\n",
       "      <th>bathrooms</th>\n",
       "      <th>sqm_living</th>\n",
       "      <th>sqm_lot</th>\n",
       "      <th>waterfront</th>\n",
       "    </tr>\n",
       "  </thead>\n",
       "  <tbody>\n",
       "    <tr>\n",
       "      <th>count</th>\n",
       "      <td>21601.00</td>\n",
       "      <td>21601.00</td>\n",
       "      <td>21601.00</td>\n",
       "      <td>21601.00</td>\n",
       "      <td>21601.00</td>\n",
       "      <td>21601.00</td>\n",
       "      <td>21601.00</td>\n",
       "    </tr>\n",
       "    <tr>\n",
       "      <th>mean</th>\n",
       "      <td>10800.46</td>\n",
       "      <td>544686.84</td>\n",
       "      <td>3.38</td>\n",
       "      <td>2.12</td>\n",
       "      <td>197.85</td>\n",
       "      <td>1408.65</td>\n",
       "      <td>0.01</td>\n",
       "    </tr>\n",
       "    <tr>\n",
       "      <th>std</th>\n",
       "      <td>6235.39</td>\n",
       "      <td>769898.28</td>\n",
       "      <td>1.14</td>\n",
       "      <td>1.01</td>\n",
       "      <td>684.42</td>\n",
       "      <td>3907.06</td>\n",
       "      <td>0.11</td>\n",
       "    </tr>\n",
       "    <tr>\n",
       "      <th>min</th>\n",
       "      <td>1.00</td>\n",
       "      <td>75000.00</td>\n",
       "      <td>0.00</td>\n",
       "      <td>0.00</td>\n",
       "      <td>26.94</td>\n",
       "      <td>48.31</td>\n",
       "      <td>0.00</td>\n",
       "    </tr>\n",
       "    <tr>\n",
       "      <th>25%</th>\n",
       "      <td>5401.00</td>\n",
       "      <td>321500.00</td>\n",
       "      <td>3.00</td>\n",
       "      <td>1.75</td>\n",
       "      <td>132.85</td>\n",
       "      <td>468.23</td>\n",
       "      <td>0.00</td>\n",
       "    </tr>\n",
       "    <tr>\n",
       "      <th>50%</th>\n",
       "      <td>10800.00</td>\n",
       "      <td>450000.00</td>\n",
       "      <td>3.00</td>\n",
       "      <td>2.25</td>\n",
       "      <td>177.44</td>\n",
       "      <td>707.92</td>\n",
       "      <td>0.00</td>\n",
       "    </tr>\n",
       "    <tr>\n",
       "      <th>75%</th>\n",
       "      <td>16200.00</td>\n",
       "      <td>645000.00</td>\n",
       "      <td>4.00</td>\n",
       "      <td>2.50</td>\n",
       "      <td>236.90</td>\n",
       "      <td>993.68</td>\n",
       "      <td>0.00</td>\n",
       "    </tr>\n",
       "    <tr>\n",
       "      <th>max</th>\n",
       "      <td>21600.00</td>\n",
       "      <td>99999999.00</td>\n",
       "      <td>99.00</td>\n",
       "      <td>99.00</td>\n",
       "      <td>99999.00</td>\n",
       "      <td>153414.99</td>\n",
       "      <td>9.00</td>\n",
       "    </tr>\n",
       "  </tbody>\n",
       "</table>\n",
       "</div>"
      ],
      "text/plain": [
       "             id        price  bedrooms  bathrooms  sqm_living    sqm_lot  \\\n",
       "count  21601.00     21601.00  21601.00   21601.00    21601.00   21601.00   \n",
       "mean   10800.46    544686.84      3.38       2.12      197.85    1408.65   \n",
       "std     6235.39    769898.28      1.14       1.01      684.42    3907.06   \n",
       "min        1.00     75000.00      0.00       0.00       26.94      48.31   \n",
       "25%     5401.00    321500.00      3.00       1.75      132.85     468.23   \n",
       "50%    10800.00    450000.00      3.00       2.25      177.44     707.92   \n",
       "75%    16200.00    645000.00      4.00       2.50      236.90     993.68   \n",
       "max    21600.00  99999999.00     99.00      99.00    99999.00  153414.99   \n",
       "\n",
       "       waterfront  \n",
       "count    21601.00  \n",
       "mean         0.01  \n",
       "std          0.11  \n",
       "min          0.00  \n",
       "25%          0.00  \n",
       "50%          0.00  \n",
       "75%          0.00  \n",
       "max          9.00  "
      ]
     },
     "execution_count": 7,
     "metadata": {},
     "output_type": "execute_result"
    }
   ],
   "source": [
    "#Obtaining descriptive statistics of all numerical variables in the data set\n",
    "data_original.describe().round(2)"
   ]
  },
  {
   "cell_type": "markdown",
   "id": "00463acb",
   "metadata": {},
   "source": [
    "Using the .describe() function, I can spot a potential abnormal observation in the data set with 99 bedrooms and 99 bathrooms. The property has a 99999.00 square meter of living space, and is priced at 99999999.00. This is an extreme value (outlier) as the price is 155 times higher than the Q3 (75 percent quartile) price at 645000"
   ]
  },
  {
   "cell_type": "code",
   "execution_count": 8,
   "id": "24d2d8a5",
   "metadata": {},
   "outputs": [
    {
     "data": {
      "image/png": "[encoded data removed]",
      "text/plain": [
       "<Figure size 432x288 with 1 Axes>"
      ]
     },
     "metadata": {
      "needs_background": "light"
     },
     "output_type": "display_data"
    }
   ],
   "source": [
    "#Plotting a box plot to investigate outliers in the data set\n",
    "ax = sns.boxplot(y='price', data=data_original, palette='bright', showmeans=True)\n",
    "\n",
    "# Function to format the y-axis in millions\n",
    "formatter = FuncFormatter(lambda y, _: f'${y / 1e6:.0f} Million')\n",
    "\n",
    "# Apply the formatter to the y-axis\n",
    "ax.yaxis.set_major_formatter(formatter)\n",
    "\n",
    "plt.show()"
   ]
  },
  {
   "cell_type": "markdown",
   "id": "a565cd3b",
   "metadata": {},
   "source": [
    "The above box plot confirms that there is only 1 observation that can be considered as extreme outlier as the price is close to 100 million dollars, whereas all other observations are below the 20 million dollars mark. \n",
    "\n",
    "Therefore, I will need to remove this observation from the data set, otherwise, it will greatly affect the performance of my statistical modelling."
   ]
  },
  {
   "cell_type": "markdown",
   "id": "f77f0bcd",
   "metadata": {},
   "source": [
    "### Data Cleaning - Removing Outlier"
   ]
  },
  {
   "cell_type": "code",
   "execution_count": 9,
   "id": "f9e84947",
   "metadata": {},
   "outputs": [
    {
     "data": {
      "text/html": [
       "<div>\n",
       "<style scoped>\n",
       "    .dataframe tbody tr th:only-of-type {\n",
       "        vertical-align: middle;\n",
       "    }\n",
       "\n",
       "    .dataframe tbody tr th {\n",
       "        vertical-align: top;\n",
       "    }\n",
       "\n",
       "    .dataframe thead th {\n",
       "        text-align: right;\n",
       "    }\n",
       "</style>\n",
       "<table border=\"1\" class=\"dataframe\">\n",
       "  <thead>\n",
       "    <tr style=\"text-align: right;\">\n",
       "      <th></th>\n",
       "      <th>id</th>\n",
       "      <th>price</th>\n",
       "      <th>bedrooms</th>\n",
       "      <th>bathrooms</th>\n",
       "      <th>sqm_living</th>\n",
       "      <th>sqm_lot</th>\n",
       "      <th>waterfront</th>\n",
       "    </tr>\n",
       "  </thead>\n",
       "  <tbody>\n",
       "    <tr>\n",
       "      <th>9999</th>\n",
       "      <td>9999</td>\n",
       "      <td>99999999</td>\n",
       "      <td>99</td>\n",
       "      <td>99.0</td>\n",
       "      <td>99999.0</td>\n",
       "      <td>99999.0</td>\n",
       "      <td>9</td>\n",
       "    </tr>\n",
       "  </tbody>\n",
       "</table>\n",
       "</div>"
      ],
      "text/plain": [
       "        id     price  bedrooms  bathrooms  sqm_living  sqm_lot  waterfront\n",
       "9999  9999  99999999        99       99.0     99999.0  99999.0           9"
      ]
     },
     "execution_count": 9,
     "metadata": {},
     "output_type": "execute_result"
    }
   ],
   "source": [
    "#Identifying the index of the aforementioned outlier in the data set\n",
    "data_original[data_original['price']==max(data_original['price'])]"
   ]
  },
  {
   "cell_type": "markdown",
   "id": "c9ea8292",
   "metadata": {},
   "source": [
    "I managed to discover that the outlier has an index of 9999 in the data set. Now, I will create a copy of the original data set, remove the outlier and continue working on my analyses. \n",
    "\n",
    "I did this because it is not advised to remove any data from the actual data set. And to overcome this, I instead created a copy of the original data and performed data cleaning."
   ]
  },
  {
   "cell_type": "code",
   "execution_count": 10,
   "id": "62a8f8a7",
   "metadata": {},
   "outputs": [],
   "source": [
    "#Creating a copy of the original data set\n",
    "data_copy=data_original.copy()\n",
    "\n",
    "#Removing the outlier from the data_copy DataFrame\n",
    "data_copy = data_copy.drop(index=9999)"
   ]
  },
  {
   "cell_type": "markdown",
   "id": "55a5836e",
   "metadata": {},
   "source": [
    "After dropping the outlier using the .drop() function, I investigated whether there is any other observation that can potentially affect my statistical modelling. \n",
    "\n",
    "Hence, I re-plotted the box plot and run the .describe() function as follows:"
   ]
  },
  {
   "cell_type": "markdown",
   "id": "25cf561f",
   "metadata": {},
   "source": [
    "### Exploratory Analysis- Working Data (data_copy DataFrame)"
   ]
  },
  {
   "cell_type": "code",
   "execution_count": 11,
   "id": "4cc8b14e",
   "metadata": {},
   "outputs": [
    {
     "data": {
      "image/png": "[encoded data removed]",
      "text/plain": [
       "<Figure size 432x288 with 1 Axes>"
      ]
     },
     "metadata": {
      "needs_background": "light"
     },
     "output_type": "display_data"
    }
   ],
   "source": [
    "#Plotting a box plot to investigate distribution of house prices\n",
    "ax = sns.boxplot(y='price', data=data_copy, palette='bright', showmeans=True)\n",
    "\n",
    "# Function to format the y-axis in millions\n",
    "formatter = FuncFormatter(lambda y, _: f'${y / 1e6:.0f} Million')\n",
    "\n",
    "# Apply the formatter to the y-axis\n",
    "ax.yaxis.set_major_formatter(formatter)\n",
    "\n",
    "plt.show()"
   ]
  },
  {
   "cell_type": "code",
   "execution_count": 12,
   "id": "5407940a",
   "metadata": {},
   "outputs": [
    {
     "data": {
      "text/html": [
       "<div>\n",
       "<style scoped>\n",
       "    .dataframe tbody tr th:only-of-type {\n",
       "        vertical-align: middle;\n",
       "    }\n",
       "\n",
       "    .dataframe tbody tr th {\n",
       "        vertical-align: top;\n",
       "    }\n",
       "\n",
       "    .dataframe thead th {\n",
       "        text-align: right;\n",
       "    }\n",
       "</style>\n",
       "<table border=\"1\" class=\"dataframe\">\n",
       "  <thead>\n",
       "    <tr style=\"text-align: right;\">\n",
       "      <th></th>\n",
       "      <th>id</th>\n",
       "      <th>price</th>\n",
       "      <th>bedrooms</th>\n",
       "      <th>bathrooms</th>\n",
       "      <th>sqm_living</th>\n",
       "      <th>sqm_lot</th>\n",
       "      <th>waterfront</th>\n",
       "    </tr>\n",
       "  </thead>\n",
       "  <tbody>\n",
       "    <tr>\n",
       "      <th>count</th>\n",
       "      <td>21600.00</td>\n",
       "      <td>21600.00</td>\n",
       "      <td>21600.00</td>\n",
       "      <td>21600.00</td>\n",
       "      <td>21600.00</td>\n",
       "      <td>21600.00</td>\n",
       "      <td>21600.00</td>\n",
       "    </tr>\n",
       "    <tr>\n",
       "      <th>mean</th>\n",
       "      <td>10800.50</td>\n",
       "      <td>540082.43</td>\n",
       "      <td>3.37</td>\n",
       "      <td>2.11</td>\n",
       "      <td>193.23</td>\n",
       "      <td>1404.08</td>\n",
       "      <td>0.01</td>\n",
       "    </tr>\n",
       "    <tr>\n",
       "      <th>std</th>\n",
       "      <td>6235.53</td>\n",
       "      <td>367144.54</td>\n",
       "      <td>0.93</td>\n",
       "      <td>0.77</td>\n",
       "      <td>85.32</td>\n",
       "      <td>3849.13</td>\n",
       "      <td>0.09</td>\n",
       "    </tr>\n",
       "    <tr>\n",
       "      <th>min</th>\n",
       "      <td>1.00</td>\n",
       "      <td>75000.00</td>\n",
       "      <td>0.00</td>\n",
       "      <td>0.00</td>\n",
       "      <td>26.94</td>\n",
       "      <td>48.31</td>\n",
       "      <td>0.00</td>\n",
       "    </tr>\n",
       "    <tr>\n",
       "      <th>25%</th>\n",
       "      <td>5400.75</td>\n",
       "      <td>321500.00</td>\n",
       "      <td>3.00</td>\n",
       "      <td>1.75</td>\n",
       "      <td>132.78</td>\n",
       "      <td>468.23</td>\n",
       "      <td>0.00</td>\n",
       "    </tr>\n",
       "    <tr>\n",
       "      <th>50%</th>\n",
       "      <td>10800.50</td>\n",
       "      <td>450000.00</td>\n",
       "      <td>3.00</td>\n",
       "      <td>2.25</td>\n",
       "      <td>177.44</td>\n",
       "      <td>707.92</td>\n",
       "      <td>0.00</td>\n",
       "    </tr>\n",
       "    <tr>\n",
       "      <th>75%</th>\n",
       "      <td>16200.25</td>\n",
       "      <td>645000.00</td>\n",
       "      <td>4.00</td>\n",
       "      <td>2.50</td>\n",
       "      <td>236.90</td>\n",
       "      <td>993.61</td>\n",
       "      <td>0.00</td>\n",
       "    </tr>\n",
       "    <tr>\n",
       "      <th>max</th>\n",
       "      <td>21600.00</td>\n",
       "      <td>7700000.00</td>\n",
       "      <td>33.00</td>\n",
       "      <td>8.00</td>\n",
       "      <td>1257.90</td>\n",
       "      <td>153414.99</td>\n",
       "      <td>1.00</td>\n",
       "    </tr>\n",
       "  </tbody>\n",
       "</table>\n",
       "</div>"
      ],
      "text/plain": [
       "             id       price  bedrooms  bathrooms  sqm_living    sqm_lot  \\\n",
       "count  21600.00    21600.00  21600.00   21600.00    21600.00   21600.00   \n",
       "mean   10800.50   540082.43      3.37       2.11      193.23    1404.08   \n",
       "std     6235.53   367144.54      0.93       0.77       85.32    3849.13   \n",
       "min        1.00    75000.00      0.00       0.00       26.94      48.31   \n",
       "25%     5400.75   321500.00      3.00       1.75      132.78     468.23   \n",
       "50%    10800.50   450000.00      3.00       2.25      177.44     707.92   \n",
       "75%    16200.25   645000.00      4.00       2.50      236.90     993.61   \n",
       "max    21600.00  7700000.00     33.00       8.00     1257.90  153414.99   \n",
       "\n",
       "       waterfront  \n",
       "count    21600.00  \n",
       "mean         0.01  \n",
       "std          0.09  \n",
       "min          0.00  \n",
       "25%          0.00  \n",
       "50%          0.00  \n",
       "75%          0.00  \n",
       "max          1.00  "
      ]
     },
     "execution_count": 12,
     "metadata": {},
     "output_type": "execute_result"
    }
   ],
   "source": [
    "#Obtaining descriptive statistics of all numerical variables in the data_copy DataFrame\n",
    "data_copy.describe().round(2)"
   ]
  },
  {
   "cell_type": "code",
   "execution_count": 13,
   "id": "1761dcef",
   "metadata": {},
   "outputs": [
    {
     "data": {
      "text/plain": [
       "DescribeResult(nobs=21600, minmax=(75000, 7700000), mean=540082.4292592593, variance=134795109808.47058, skewness=4.024719119466403, kurtosis=34.59035294122284)"
      ]
     },
     "execution_count": 13,
     "metadata": {},
     "output_type": "execute_result"
    }
   ],
   "source": [
    "#Descriptive statistics of the 'price' variable- data_copy DataFrame\n",
    "stats.describe(data_copy['price'])"
   ]
  },
  {
   "cell_type": "code",
   "execution_count": 14,
   "id": "811a52d3",
   "metadata": {},
   "outputs": [
    {
     "data": {
      "text/plain": [
       "DescribeResult(nobs=21601, minmax=(75000, 99999999), mean=544686.8418591731, variance=592743362338.8341, skewness=100.23458311537557, kurtosis=12891.663718272875)"
      ]
     },
     "execution_count": 14,
     "metadata": {},
     "output_type": "execute_result"
    }
   ],
   "source": [
    "#Descriptive statistics of the 'price' variable- data_original DataFrame\n",
    "stats.describe(data_original['price'])"
   ]
  },
  {
   "cell_type": "markdown",
   "id": "44dfa036",
   "metadata": {},
   "source": [
    "The variance in data_original is approximately 4.40 times larger than the variance in data_copy. \n",
    "\n",
    "The removal of the outlier from data_original to create data_copy has had a substantial impact on the statistical properties of the dataset:\n",
    "\n",
    "Reduced variance: Indicating a more consistent spread of data around the mean.\n",
    "Decreased mean: Suggesting the outlier was a high value pulling the average upwards.\n",
    "Lower skewness: Resulting in a more symmetric distribution.\n",
    "Decreased kurtosis: Indicating fewer extreme values and a distribution closer to normal"
   ]
  },
  {
   "cell_type": "code",
   "execution_count": 15,
   "id": "9eb96368",
   "metadata": {},
   "outputs": [
    {
     "data": {
      "image/png": "[encoded data removed]",
      "text/plain": [
       "<Figure size 432x288 with 1 Axes>"
      ]
     },
     "metadata": {
      "needs_background": "light"
     },
     "output_type": "display_data"
    }
   ],
   "source": [
    "# Plotting the data distribution of the 'price' variable (data_copy)\n",
    "ax = plt.hist(data_copy['price'] / 1e6, bins=8, color='blue')\n",
    "\n",
    "# Function to format the x-axis in millions\n",
    "formatter = FuncFormatter(lambda x, _: f'${x:.0f}M')\n",
    "\n",
    "#Adding a title to the y-axis\n",
    "plt.ylabel('count')          \n",
    "\n",
    "# Apply the formatter to the x-axis\n",
    "plt.gca().xaxis.set_major_formatter(formatter)"
   ]
  },
  {
   "cell_type": "markdown",
   "id": "94145352",
   "metadata": {},
   "source": [
    "Price is a strongly right, positively, skewed variable. House prices vary between 75000 and 7700000. Average house price is 540082. It might also be necessary to look at the median house price which is 450000. The standard deviation is 367145 (calculated by np.sqrt(134795109808.4706)). 50 percent of the houses are priced more than 450000 and 25 percent are priced more than 645000. There are some possible outliers in the long right tail of the distribution, above about 1.5 million dollars (according to the boxplot and distribution histogram)\n"
   ]
  },
  {
   "cell_type": "code",
   "execution_count": 16,
   "id": "012d383e",
   "metadata": {},
   "outputs": [
    {
     "data": {
      "image/png": "[encoded data removed]",
      "text/plain": [
       "<Figure size 432x288 with 1 Axes>"
      ]
     },
     "metadata": {
      "needs_background": "light"
     },
     "output_type": "display_data"
    }
   ],
   "source": [
    "#Plotting a box plot to investigate the distribution of the houses in the two subgroups, with waterfront and without\n",
    "\n",
    "ax = sns.boxplot(x='waterfront', y='price', data=data_copy, palette='bright', showmeans=True)\n",
    "\n",
    "# Function to format the y-axis in millions\n",
    "formatter = FuncFormatter(lambda y, _: f'${y / 1e6:.0f} Million')\n",
    "\n",
    "# Apply the formatter to the y-axis\n",
    "ax.yaxis.set_major_formatter(formatter)\n",
    "\n",
    "plt.show()"
   ]
  },
  {
   "cell_type": "code",
   "execution_count": 17,
   "id": "8a5184cc",
   "metadata": {},
   "outputs": [
    {
     "data": {
      "text/plain": [
       "count      21437.00\n",
       "mean      531552.67\n",
       "std       341602.10\n",
       "min        75000.00\n",
       "25%       320000.00\n",
       "50%       450000.00\n",
       "75%       639900.00\n",
       "max      7700000.00\n",
       "Name: price, dtype: object"
      ]
     },
     "execution_count": 17,
     "metadata": {},
     "output_type": "execute_result"
    }
   ],
   "source": [
    "#Descriptive statistics of prices for houses without waterfront\n",
    "data_copy.loc[data_copy['waterfront']==0, 'price'].describe().apply(lambda x: format(x, '.2f'))"
   ]
  },
  {
   "cell_type": "code",
   "execution_count": 18,
   "id": "970c9d18",
   "metadata": {},
   "outputs": [
    {
     "data": {
      "text/plain": [
       "count        163.00\n",
       "mean     1661876.02\n",
       "std      1120371.73\n",
       "min       285000.00\n",
       "25%       760000.00\n",
       "50%      1400000.00\n",
       "75%      2215000.00\n",
       "max      7062500.00\n",
       "Name: price, dtype: object"
      ]
     },
     "execution_count": 18,
     "metadata": {},
     "output_type": "execute_result"
    }
   ],
   "source": [
    "#Descriptive statistics of prices for houses with waterfront\n",
    "data_copy.loc[data_copy['waterfront']==1, 'price'].describe().apply(lambda x: format(x, '.2f'))"
   ]
  },
  {
   "cell_type": "code",
   "execution_count": 19,
   "id": "661830a1",
   "metadata": {},
   "outputs": [
    {
     "data": {
      "text/plain": [
       "DescribeResult(nobs=21437, minmax=(75000, 7700000), mean=531552.6743480897, variance=116691993510.25653, skewness=3.655964715365697, kurtosis=31.39380697105507)"
      ]
     },
     "execution_count": 19,
     "metadata": {},
     "output_type": "execute_result"
    }
   ],
   "source": [
    "#Descriptive statistics of prices for houses without waterfront\n",
    "stats.describe(data_copy.loc[data_copy['waterfront']==0, 'price'])"
   ]
  },
  {
   "cell_type": "code",
   "execution_count": 20,
   "id": "43e027cc",
   "metadata": {},
   "outputs": [
    {
     "data": {
      "text/plain": [
       "DescribeResult(nobs=163, minmax=(285000, 7062500), mean=1661876.0245398772, variance=1255232816099.802, skewness=1.4427023109648562, kurtosis=3.127041653743727)"
      ]
     },
     "execution_count": 20,
     "metadata": {},
     "output_type": "execute_result"
    }
   ],
   "source": [
    "#Descriptive statistics of prices for houses with waterfront\n",
    "stats.describe(data_copy.loc[data_copy['waterfront']==1, 'price'])"
   ]
  },
  {
   "cell_type": "code",
   "execution_count": 21,
   "id": "e7942b64",
   "metadata": {},
   "outputs": [
    {
     "name": "stdout",
     "output_type": "stream",
     "text": [
      "Mean difference in price is:  1130323.3501917874\n",
      "Mean difference in price is:  950000.0\n"
     ]
    }
   ],
   "source": [
    "#Calculating the difference in average (mean) price of houses with and without waterfront\n",
    "mean_dif= data_copy.loc[data_copy['waterfront'] == 1, 'price'].mean() - data_copy.loc[data_copy['waterfront'] == 0, 'price'].mean()\n",
    "\n",
    "#Calculating the difference in median price of houses with and without waterfront\n",
    "median_dif= data_copy.loc[data_copy['waterfront'] == 1, 'price'].median() - data_copy.loc[data_copy['waterfront'] == 0, 'price'].median()\n",
    "\n",
    "print('Mean difference in price is: ', mean_dif)\n",
    "print('Mean difference in price is: ', median_dif)"
   ]
  },
  {
   "cell_type": "markdown",
   "id": "6b6e0396",
   "metadata": {},
   "source": [
    "It was found that 99.25% (21437 out of 21600) of the houses included in the data set does not have waterfront. Furthermore, houses with no waterfront, on overage, cost less than houses with waterfront. The difference in average price is 1130323.35, and the difference in median price is 950000.\n",
    "\n",
    "\n",
    "From the box plot, it also appears that houses there are significantly more outliers in price for houses without  waterfront compared to those with waterfront."
   ]
  },
  {
   "cell_type": "code",
   "execution_count": 22,
   "id": "96599c32",
   "metadata": {},
   "outputs": [
    {
     "data": {
      "image/png": "[encoded data removed]",
      "text/plain": [
       "<Figure size 1008x432 with 2 Axes>"
      ]
     },
     "metadata": {
      "needs_background": "light"
     },
     "output_type": "display_data"
    }
   ],
   "source": [
    "#Using ChatGPT for assistance\n",
    "import matplotlib.pyplot as plt\n",
    "\n",
    "# Filtering the data for each subgroup\n",
    "no_waterfront = data_copy[data_copy['waterfront'] == 0]\n",
    "with_waterfront = data_copy[data_copy['waterfront'] == 1]\n",
    "\n",
    "# Plotting histograms\n",
    "plt.figure(figsize=(14, 6))\n",
    "\n",
    "# Histogram for 0 waterfront\n",
    "plt.subplot(1, 2, 1)\n",
    "plt.hist(no_waterfront['price'] / 1e6, bins=8, color='blue')\n",
    "formatter = FuncFormatter(lambda x, _: f'${x:.0f}M')\n",
    "plt.title('Price Distribution (No Waterfront)')\n",
    "plt.xlabel('price')\n",
    "plt.ylabel('count')\n",
    "\n",
    "# Histogram for 1 waterfront\n",
    "plt.subplot(1, 2, 2)\n",
    "plt.hist(with_waterfront['price'] / 1e6, bins=8, color='orange')\n",
    "formatter = FuncFormatter(lambda x, _: f'${x:.0f}M')\n",
    "plt.title('Price Distribution (With Waterfront)')\n",
    "plt.xlabel('price')\n",
    "plt.ylabel('count')\n",
    "\n",
    "plt.tight_layout()\n",
    "plt.show()"
   ]
  },
  {
   "cell_type": "markdown",
   "id": "ff48044f",
   "metadata": {},
   "source": [
    "From the above histograms, it is clear that both distributions are skewed to the right.\n",
    "\n",
    "If found to be significant, the potential relationship and difference in house price is clear from the plots and summary statistics obtained in my previous exploratory analyses."
   ]
  },
  {
   "cell_type": "markdown",
   "id": "0bc45f34",
   "metadata": {},
   "source": [
    "## Question 2 "
   ]
  },
  {
   "cell_type": "markdown",
   "id": "3107b6c3",
   "metadata": {},
   "source": [
    "### One-sided Student's t-test"
   ]
  },
  {
   "cell_type": "markdown",
   "id": "2244652b",
   "metadata": {},
   "source": [
    "The Student's t-test is a statistical method used to determine whether there is a significant difference between the means of two groups. In this context, the t-test is being conducted to compare the average values of two samples to investigate if the houses with waterfront are priced higher, on average, than houses with no waterfront."
   ]
  },
  {
   "cell_type": "code",
   "execution_count": 23,
   "id": "4ab82037",
   "metadata": {},
   "outputs": [
    {
     "data": {
      "text/plain": [
       "Ttest_indResult(statistic=12.875998525086034, pvalue=1.3780183918988174e-26)"
      ]
     },
     "execution_count": 23,
     "metadata": {},
     "output_type": "execute_result"
    }
   ],
   "source": [
    "stats.ttest_ind(data_copy.loc[data_copy['waterfront']==1, 'price'],data_copy.loc[data_copy['waterfront']==0, 'price'], equal_var = False)"
   ]
  },
  {
   "cell_type": "markdown",
   "id": "299e2be6",
   "metadata": {},
   "source": [
    "The hypotheses are:\n",
    "\n",
    "$H_0:$ the two sample means are equal: $\\mu_{\\text{waterfront}} = \\mu_{\\text{no_waterfront}}$\n",
    "\n",
    "$H_1:$ the two sample means are not equal: $\\mu_{\\text{waterfront}} > \\mu_{\\text{no_waterfront}}$\n",
    "\n",
    "We choose $\\alpha=0.05$ as standard.  "
   ]
  },
  {
   "cell_type": "markdown",
   "id": "e6434cab",
   "metadata": {},
   "source": [
    "The test stat is  𝑡 = 12.88, which has a Student-t distribution with approximately 162 degrees of freedom (shown above), if the null hypothesis (that the means of the two groups are equal) and the assumptions of the test are true.\n",
    "\n",
    "\n",
    "The chance that the resulting Student-t value would be more extreme than $12.88$, in the direction of the alternative hypothesis which is \"higher or greater than\", is very close to 0, i.e. here the p-val is $P(t_{162} > 12.88) = 1.38 \\times 10^{-26}/2 = 6.9 \\times 10^{-27}$ (since I am performing a one-sided t-test, the calculated p-value needs to be divided by two). This is $< 0.05$, so I reject the null and conclude that the 'waterfront' group mean amount spent is significantly greater than the 'no_waterfront' group mean. In other words, houses with 'waterfront' tend to have significantly higher prices, on average, than those with 'no_waterfront'. "
   ]
  },
  {
   "cell_type": "markdown",
   "id": "e26e83c9",
   "metadata": {},
   "source": [
    "The test assumed that the data are iid in each group, the two groups are independent of each other and the 4th moment of the price in each group is finite. The 1st assumption relies on houses are priced independently of each other (i.e. the price of one house does not influence another). Additionally, prices in each group are drawn from the same distribution, ensuring consistent statistical properties. I assume these are true even though I can't really know for sure. \n",
    "\n",
    "The 2nd assumption relates to normality. This assumption holds because the size of each sample is large ('waterfront' sample contains 163 observations, and 'no_waterfront' sample contains 21437 observations). According to the Central Limit Theorem (CLT), with sufficiently large sample sizes, the sampling distribution of the mean tends to be normal regardless of the population distribution.\n",
    "\n",
    "The final assumption will be satisfied if 'price' is a bounded variable. Clearly it is bounded below by \\$0; further, since the number of houses is limited (as seen in the data set) and each housebuyer has finite amounts of money, I can regard price as implicitly bounded via these aspects. Thus, the 4th moment of 'price' will be finite and the 3rd assumption is satisfied. \n",
    "\n",
    "It should be noted that since the variances of the two samples (waterfront and no_waterfront) are not equal, the assumption of homoscedasticity does not hold. Therefore, the results of the Student's t-test may be misleading."
   ]
  },
  {
   "cell_type": "markdown",
   "id": "8759a723",
   "metadata": {},
   "source": [
    "### Median test "
   ]
  },
  {
   "cell_type": "code",
   "execution_count": 24,
   "id": "18d56d0c",
   "metadata": {},
   "outputs": [
    {
     "data": {
      "text/plain": [
       "(122.65671160672714,\n",
       " 1.6578933299614663e-28,\n",
       " 450000.0,\n",
       " array([[  152, 10591],\n",
       "        [   11, 10846]], dtype=int64))"
      ]
     },
     "execution_count": 24,
     "metadata": {},
     "output_type": "execute_result"
    }
   ],
   "source": [
    "median_test(data_copy.loc[data_copy['waterfront']==1, 'price'],data_copy.loc[data_copy['waterfront']==0, 'price'])"
   ]
  },
  {
   "cell_type": "markdown",
   "id": "c31f3969",
   "metadata": {},
   "source": [
    "The hypotheses are:\n",
    "\n",
    "$H_0:$ the two sample medians are equal: $\\text{median}_{\\text{waterfront}} = \\text{median}_{\\text{no_waterfront}}$\n",
    "\n",
    "$H_1:$ the two sample medians are not equal: $\\text{median}_{\\text{waterfront}} \\neq \\text{median}_{\\text{no_waterfront}}$\n",
    "\n",
    "\n",
    "I choose $\\alpha=0.05$ as standard and for consistency across tests."
   ]
  },
  {
   "cell_type": "code",
   "execution_count": 25,
   "id": "1eed5f10",
   "metadata": {},
   "outputs": [
    {
     "data": {
      "text/html": [
       "<div>\n",
       "<style scoped>\n",
       "    .dataframe tbody tr th:only-of-type {\n",
       "        vertical-align: middle;\n",
       "    }\n",
       "\n",
       "    .dataframe tbody tr th {\n",
       "        vertical-align: top;\n",
       "    }\n",
       "\n",
       "    .dataframe thead th {\n",
       "        text-align: right;\n",
       "    }\n",
       "</style>\n",
       "<table border=\"1\" class=\"dataframe\">\n",
       "  <thead>\n",
       "    <tr style=\"text-align: right;\">\n",
       "      <th>Sample (waterfront)</th>\n",
       "      <th>0</th>\n",
       "      <th>1</th>\n",
       "    </tr>\n",
       "    <tr>\n",
       "      <th>price&gt;median_price</th>\n",
       "      <th></th>\n",
       "      <th></th>\n",
       "    </tr>\n",
       "  </thead>\n",
       "  <tbody>\n",
       "    <tr>\n",
       "      <th>0</th>\n",
       "      <td>10846</td>\n",
       "      <td>11</td>\n",
       "    </tr>\n",
       "    <tr>\n",
       "      <th>1</th>\n",
       "      <td>10591</td>\n",
       "      <td>152</td>\n",
       "    </tr>\n",
       "  </tbody>\n",
       "</table>\n",
       "</div>"
      ],
      "text/plain": [
       "Sample (waterfront)      0    1\n",
       "price>median_price             \n",
       "0                    10846   11\n",
       "1                    10591  152"
      ]
     },
     "execution_count": 25,
     "metadata": {},
     "output_type": "execute_result"
    }
   ],
   "source": [
    "#Constructing the contingency table to investigate the distribution of house prices relative to the median\n",
    "#for the two samples 'waterfront' and 'no_waterfront'\n",
    "med_price = data_copy['price'].median()\n",
    "data_copy['price>med_price'] = np.where(data_copy['price'] > med_price,1,0)\n",
    "\n",
    "contingency_table=pd.crosstab(data_copy['price>med_price'],data_copy['waterfront'], rownames=['price>median_price'], colnames=['Sample (waterfront)']);\n",
    "contingency_table"
   ]
  },
  {
   "cell_type": "markdown",
   "id": "0bdb687c",
   "metadata": {},
   "source": [
    "The test statistic is  122.66, which under the null follows a $\\chi^2_1$ distribution where df=(number of rows−1)×(number of columns−1). \n",
    "\n",
    "In this case, the p-value is $P(\\chi^2_1 > 122.66) = 1.66 \\times 10^{-28}$. This is < 0.05, thus I can reject the null hypothesis. I can conclude that there is a significant difference in median between price for houses with waterfront and with no waterfront.\n",
    "\n",
    "The assumptions made are:\n",
    "\n",
    "Independence of the two groups: Similar to the previous discussion about the iid assumption of the Student's t-test, I have no idea about this, but I still must acknowledge what i assumed.\n",
    "\n",
    "Each cell in the contingency table has expected value at least 5: This assumption holds in this case as all the expected values are above 5 according to the contigency table above\n",
    "\n",
    "Data are i.i.d. in each group: Similar to the previous discussion about the iid assumption of the Student's t-test, I have no idea about this, but I still must acknowledge what I assumed.\n",
    "\n",
    "Data are at least on the ordinal scale: price is a numerical variable, so this is satisfied."
   ]
  },
  {
   "cell_type": "markdown",
   "id": "2d2966a9",
   "metadata": {},
   "source": [
    "### Mann-Whitney U test"
   ]
  },
  {
   "cell_type": "code",
   "execution_count": 26,
   "id": "31ff89e0",
   "metadata": {},
   "outputs": [
    {
     "data": {
      "text/html": [
       "<div>\n",
       "<style scoped>\n",
       "    .dataframe tbody tr th:only-of-type {\n",
       "        vertical-align: middle;\n",
       "    }\n",
       "\n",
       "    .dataframe tbody tr th {\n",
       "        vertical-align: top;\n",
       "    }\n",
       "\n",
       "    .dataframe thead th {\n",
       "        text-align: right;\n",
       "    }\n",
       "</style>\n",
       "<table border=\"1\" class=\"dataframe\">\n",
       "  <thead>\n",
       "    <tr style=\"text-align: right;\">\n",
       "      <th></th>\n",
       "      <th>id</th>\n",
       "      <th>price</th>\n",
       "      <th>bedrooms</th>\n",
       "      <th>bathrooms</th>\n",
       "      <th>sqm_living</th>\n",
       "      <th>sqm_lot</th>\n",
       "      <th>waterfront</th>\n",
       "      <th>price&gt;med_price</th>\n",
       "      <th>rank_price</th>\n",
       "    </tr>\n",
       "  </thead>\n",
       "  <tbody>\n",
       "    <tr>\n",
       "      <th>0</th>\n",
       "      <td>1</td>\n",
       "      <td>221900</td>\n",
       "      <td>3</td>\n",
       "      <td>1.00</td>\n",
       "      <td>109.624675</td>\n",
       "      <td>524.897807</td>\n",
       "      <td>0</td>\n",
       "      <td>0</td>\n",
       "      <td>1371.5</td>\n",
       "    </tr>\n",
       "    <tr>\n",
       "      <th>1</th>\n",
       "      <td>2</td>\n",
       "      <td>538000</td>\n",
       "      <td>3</td>\n",
       "      <td>2.25</td>\n",
       "      <td>238.758826</td>\n",
       "      <td>672.798216</td>\n",
       "      <td>0</td>\n",
       "      <td>1</td>\n",
       "      <td>13559.5</td>\n",
       "    </tr>\n",
       "    <tr>\n",
       "      <th>2</th>\n",
       "      <td>3</td>\n",
       "      <td>180000</td>\n",
       "      <td>2</td>\n",
       "      <td>1.00</td>\n",
       "      <td>71.534745</td>\n",
       "      <td>929.022668</td>\n",
       "      <td>0</td>\n",
       "      <td>0</td>\n",
       "      <td>487.0</td>\n",
       "    </tr>\n",
       "    <tr>\n",
       "      <th>3</th>\n",
       "      <td>4</td>\n",
       "      <td>604000</td>\n",
       "      <td>4</td>\n",
       "      <td>3.00</td>\n",
       "      <td>182.088443</td>\n",
       "      <td>464.511334</td>\n",
       "      <td>0</td>\n",
       "      <td>1</td>\n",
       "      <td>15382.0</td>\n",
       "    </tr>\n",
       "    <tr>\n",
       "      <th>4</th>\n",
       "      <td>5</td>\n",
       "      <td>510000</td>\n",
       "      <td>3</td>\n",
       "      <td>2.00</td>\n",
       "      <td>156.075808</td>\n",
       "      <td>750.650316</td>\n",
       "      <td>0</td>\n",
       "      <td>1</td>\n",
       "      <td>12738.5</td>\n",
       "    </tr>\n",
       "    <tr>\n",
       "      <th>...</th>\n",
       "      <td>...</td>\n",
       "      <td>...</td>\n",
       "      <td>...</td>\n",
       "      <td>...</td>\n",
       "      <td>...</td>\n",
       "      <td>...</td>\n",
       "      <td>...</td>\n",
       "      <td>...</td>\n",
       "      <td>...</td>\n",
       "    </tr>\n",
       "    <tr>\n",
       "      <th>21596</th>\n",
       "      <td>21596</td>\n",
       "      <td>520000</td>\n",
       "      <td>2</td>\n",
       "      <td>2.25</td>\n",
       "      <td>142.140468</td>\n",
       "      <td>91.137124</td>\n",
       "      <td>0</td>\n",
       "      <td>1</td>\n",
       "      <td>13003.0</td>\n",
       "    </tr>\n",
       "    <tr>\n",
       "      <th>21597</th>\n",
       "      <td>21597</td>\n",
       "      <td>679950</td>\n",
       "      <td>5</td>\n",
       "      <td>2.75</td>\n",
       "      <td>334.448160</td>\n",
       "      <td>876.718692</td>\n",
       "      <td>0</td>\n",
       "      <td>1</td>\n",
       "      <td>16872.0</td>\n",
       "    </tr>\n",
       "    <tr>\n",
       "      <th>21598</th>\n",
       "      <td>21598</td>\n",
       "      <td>1575000</td>\n",
       "      <td>4</td>\n",
       "      <td>3.25</td>\n",
       "      <td>316.796730</td>\n",
       "      <td>940.635452</td>\n",
       "      <td>0</td>\n",
       "      <td>1</td>\n",
       "      <td>21137.0</td>\n",
       "    </tr>\n",
       "    <tr>\n",
       "      <th>21599</th>\n",
       "      <td>21599</td>\n",
       "      <td>541800</td>\n",
       "      <td>4</td>\n",
       "      <td>2.50</td>\n",
       "      <td>289.669268</td>\n",
       "      <td>730.769231</td>\n",
       "      <td>0</td>\n",
       "      <td>1</td>\n",
       "      <td>13696.0</td>\n",
       "    </tr>\n",
       "    <tr>\n",
       "      <th>21600</th>\n",
       "      <td>21600</td>\n",
       "      <td>810000</td>\n",
       "      <td>4</td>\n",
       "      <td>3.00</td>\n",
       "      <td>370.680045</td>\n",
       "      <td>728.167967</td>\n",
       "      <td>0</td>\n",
       "      <td>1</td>\n",
       "      <td>18742.0</td>\n",
       "    </tr>\n",
       "  </tbody>\n",
       "</table>\n",
       "<p>21600 rows × 9 columns</p>\n",
       "</div>"
      ],
      "text/plain": [
       "          id    price  bedrooms  bathrooms  sqm_living     sqm_lot  \\\n",
       "0          1   221900         3       1.00  109.624675  524.897807   \n",
       "1          2   538000         3       2.25  238.758826  672.798216   \n",
       "2          3   180000         2       1.00   71.534745  929.022668   \n",
       "3          4   604000         4       3.00  182.088443  464.511334   \n",
       "4          5   510000         3       2.00  156.075808  750.650316   \n",
       "...      ...      ...       ...        ...         ...         ...   \n",
       "21596  21596   520000         2       2.25  142.140468   91.137124   \n",
       "21597  21597   679950         5       2.75  334.448160  876.718692   \n",
       "21598  21598  1575000         4       3.25  316.796730  940.635452   \n",
       "21599  21599   541800         4       2.50  289.669268  730.769231   \n",
       "21600  21600   810000         4       3.00  370.680045  728.167967   \n",
       "\n",
       "       waterfront  price>med_price  rank_price  \n",
       "0               0                0      1371.5  \n",
       "1               0                1     13559.5  \n",
       "2               0                0       487.0  \n",
       "3               0                1     15382.0  \n",
       "4               0                1     12738.5  \n",
       "...           ...              ...         ...  \n",
       "21596           0                1     13003.0  \n",
       "21597           0                1     16872.0  \n",
       "21598           0                1     21137.0  \n",
       "21599           0                1     13696.0  \n",
       "21600           0                1     18742.0  \n",
       "\n",
       "[21600 rows x 9 columns]"
      ]
     },
     "execution_count": 26,
     "metadata": {},
     "output_type": "execute_result"
    }
   ],
   "source": [
    "data_copy['rank_price'] = rankdata(data_copy['price'])\n",
    "data_copy"
   ]
  },
  {
   "cell_type": "code",
   "execution_count": 27,
   "id": "ea797e27",
   "metadata": {},
   "outputs": [
    {
     "data": {
      "text/plain": [
       "<AxesSubplot:xlabel='waterfront', ylabel='rank_price'>"
      ]
     },
     "execution_count": 27,
     "metadata": {},
     "output_type": "execute_result"
    },
    {
     "data": {
      "image/png": "[encoded data removed]",
      "text/plain": [
       "<Figure size 432x288 with 1 Axes>"
      ]
     },
     "metadata": {
      "needs_background": "light"
     },
     "output_type": "display_data"
    }
   ],
   "source": [
    "sns.boxplot(x=data_copy['waterfront'], y=data_copy['rank_price'], palette='Blues', showmeans=True)"
   ]
  },
  {
   "cell_type": "code",
   "execution_count": 28,
   "id": "8137dd57",
   "metadata": {},
   "outputs": [
    {
     "name": "stdout",
     "output_type": "stream",
     "text": [
      "[3102327.0, 230188473.0]\n"
     ]
    }
   ],
   "source": [
    "#Calculating the sum of ranks for the two samples ('waterfront' and 'no_waterfront')\n",
    "R1 = data_copy['rank_price'][data_copy['waterfront']==1]\n",
    "R2 = data_copy['rank_price'][data_copy['waterfront']==0]\n",
    "print([sum(R1), sum(R2)])"
   ]
  },
  {
   "cell_type": "code",
   "execution_count": 29,
   "id": "feb4af12",
   "metadata": {},
   "outputs": [
    {
     "data": {
      "text/plain": [
       "MannwhitneyuResult(statistic=3088961.0, pvalue=1.6214734345185487e-64)"
      ]
     },
     "execution_count": 29,
     "metadata": {},
     "output_type": "execute_result"
    }
   ],
   "source": [
    "from scipy.stats import mannwhitneyu\n",
    "mannwhitneyu(data_copy.loc[data_copy['waterfront']==1, 'price'],data_copy.loc[data_copy['waterfront']==0, 'price'], alternative='greater')"
   ]
  },
  {
   "cell_type": "markdown",
   "id": "00462876",
   "metadata": {},
   "source": [
    "The hypotheses are:\n",
    "\n",
    "$H_0:$ price in the 'waterfront' sample has the same distribution as price in the 'no_waterfront' sample:\n",
    "$P(\\text{price}_\\text{waterfront} > \\text{price}_\\text{no_waterfront}) = 0.5$\n",
    "\n",
    "$H_1:$ The price in the 'waterfront' sample is greater than the price in the 'no_waterfront' sample:\n",
    "$P(\\text{price}_\\text{waterfront} > \\text{price}_\\text{no_waterfront}) > 0.5$\n",
    "\n",
    "I choose  $\\alpha=0.05$ as standard and for consistency across tests.\n",
    "\n",
    "The test statistic assesses whether there is a difference in the sum of the ranks in each sample. Here it is 𝑈=3088961, which under the null follows a large sample normal distribution with mean and variance as given by the test. \n",
    "\n",
    "The sum of ranks for the waterfront group (R1) is 3102327, while the sum of ranks for 'no_waterfront' group (R2) is 230188473. The calculated U value from the Mann-Whitney U test is 𝑈 = 3088961. This can be used to calculate the Z statistic associated with 𝑈 = 3088961, using the formulas given in lecture: $Z = \\frac{U - E(U)+0.5}{\\sqrt{V(U)}} = \\frac{3088961 - 1747115.5+ 0.5}{\\sqrt{629014171167.83}}= 1.69 $\n",
    "\n",
    "$U = SR_1 - 0.5n_1(n_1+1)= 3102327 -0.5*163*(163+1) = 3088961$\n",
    "\n",
    "𝑉(𝑈)=𝑉(𝑆𝑅1)= (163*214378*(21600+1))/12 = 629014171167.83\n",
    "\n",
    "𝐸(𝑈)=𝐸(𝑆𝑅1)-13366= 0.5*163*(21600+1)- 13366 = 1747115.5\n",
    "\n",
    "𝐸(𝑈)=𝐸(𝑆𝑅2)-13366= 0.5*21437*(21600+1)- 13366 = 231516952.5\n",
    "\n",
    "Note:  0.5𝑛1(𝑛1+1)= 0.5*163*(163+1)=13366\n"
   ]
  },
  {
   "cell_type": "code",
   "execution_count": 30,
   "id": "f7f486cb",
   "metadata": {},
   "outputs": [
    {
     "data": {
      "text/plain": [
       "0.045513977321549826"
      ]
     },
     "execution_count": 30,
     "metadata": {},
     "output_type": "execute_result"
    }
   ],
   "source": [
    "#Calculating the p_value for the given Z-statistic\n",
    "from scipy.stats import norm\n",
    "p_value= 1- norm.cdf(1.69)\n",
    "p_value"
   ]
  },
  {
   "cell_type": "markdown",
   "id": "fe931cea",
   "metadata": {},
   "source": [
    "The one-sided p-value is then 𝑃(𝑍<1.69) which is 0.046 (as seen in the code cell above). This is < 0.05, thus I can reject the null hypothesis. \n",
    "\n",
    "I can conclude that there is a significant difference in the distribution of prices between the 'waterfront' and 'no_waterfront' samples, with the price in the 'waterfront' sample being significantly higher than in the 'no_waterfront' sample."
   ]
  },
  {
   "cell_type": "markdown",
   "id": "7b26df17",
   "metadata": {},
   "source": [
    "The assumptions made are:\n",
    "\n",
    "Independence of the two samples: Again I have no idea, but I still must acknowledge what I assumed.\n",
    "\n",
    "Data are i.i.d. in each group: Again I have no idea, but I still must acknowledge what I assumed.\n",
    "\n",
    "Each group's sample size is large enough for the CLT to work: I only neded at least 8 in each group, so sample sizes of 'waterfront' (163 observations) and 'no_waterfront' (21437 observations) are more than sufficient.\n",
    "\n",
    "Data are at least on the ordinal scale:  Since 'price' is a numerical variable, this assumption is satisfied."
   ]
  },
  {
   "cell_type": "markdown",
   "id": "8c5583e8",
   "metadata": {},
   "source": [
    "## Question 3"
   ]
  },
  {
   "cell_type": "markdown",
   "id": "d9640da8",
   "metadata": {},
   "source": [
    "The p-value of the t-test is $6.9 \\times 10^{-27}$, while this number is $1.66 \\times 10^{-28}$ for the median test, and 0.046 for the Mann-Whiteney U test.\n",
    "\n",
    "If all the assumptions of the Student's t-test are satisfied, the test is known to have the most power. Although the t-test has the lowest p-value, which typically suggests the strongest evidence against the null hypothesis, one of the assumptions of the t-test is not satisfied as discussed in Question 2. This makes the t-test results less reliable and not trustworthy, despite the low p-value.\n",
    "\n",
    "The Median test is valid since all its assumptions are satisfied, but it has a much lower power compared to the Mann-Whitney U test. It should be noted that the Median test achieved the lowest p-value among the three statistical tests.\n",
    "\n",
    "The Mann-Whitney U test has more power than the Median test, and since the assumptions in the t-test are not satisfied, it has more power than both, despite its higher p-value compared to the other two statistical tests."
   ]
  },
  {
   "cell_type": "markdown",
   "id": "1c548087",
   "metadata": {},
   "source": [
    "The Mann-Whitney U test is the most reliable in this case because it satisfies all its assumptions and has more power than the Median test, making its results trustworthy. While the t-test has a lower p-value, one of its assumptions is not met, rendering its results less reliable. Therefore, the Mann-Whitney U test's balance of valid assumptions and sufficient power makes it the most dependable choice for this analysis."
   ]
  },
  {
   "cell_type": "markdown",
   "id": "1a5f7efb",
   "metadata": {},
   "source": [
    "## Question 4"
   ]
  },
  {
   "cell_type": "code",
   "execution_count": 31,
   "id": "6b40bc1b",
   "metadata": {},
   "outputs": [
    {
     "data": {
      "image/png": "[encoded data removed]",
      "text/plain": [
       "<Figure size 432x288 with 2 Axes>"
      ]
     },
     "metadata": {
      "needs_background": "light"
     },
     "output_type": "display_data"
    }
   ],
   "source": [
    "#Plotting Correlation Matrix to identify the correlations between variables\n",
    "fig, ax = plt.subplots()\n",
    "cmap = sns.diverging_palette(220, 10, as_cmap=True)\n",
    "sns.heatmap(data_copy.corr(), vmax=1, vmin=-1, center=0, square=True, ax=ax, cmap=cmap)\n",
    "ax.set_title('Correlation matrix', fontweight='bold', fontsize=13)\n",
    "plt.tight_layout()"
   ]
  },
  {
   "cell_type": "code",
   "execution_count": 32,
   "id": "a45a42dd",
   "metadata": {},
   "outputs": [
    {
     "data": {
      "text/html": [
       "<div>\n",
       "<style scoped>\n",
       "    .dataframe tbody tr th:only-of-type {\n",
       "        vertical-align: middle;\n",
       "    }\n",
       "\n",
       "    .dataframe tbody tr th {\n",
       "        vertical-align: top;\n",
       "    }\n",
       "\n",
       "    .dataframe thead th {\n",
       "        text-align: right;\n",
       "    }\n",
       "</style>\n",
       "<table border=\"1\" class=\"dataframe\">\n",
       "  <thead>\n",
       "    <tr style=\"text-align: right;\">\n",
       "      <th></th>\n",
       "      <th>id</th>\n",
       "      <th>price</th>\n",
       "      <th>bedrooms</th>\n",
       "      <th>bathrooms</th>\n",
       "      <th>sqm_living</th>\n",
       "      <th>sqm_lot</th>\n",
       "      <th>waterfront</th>\n",
       "      <th>price&gt;med_price</th>\n",
       "      <th>rank_price</th>\n",
       "    </tr>\n",
       "  </thead>\n",
       "  <tbody>\n",
       "    <tr>\n",
       "      <th>id</th>\n",
       "      <td>1.00</td>\n",
       "      <td>0.03</td>\n",
       "      <td>0.01</td>\n",
       "      <td>0.11</td>\n",
       "      <td>0.04</td>\n",
       "      <td>-0.03</td>\n",
       "      <td>-0.01</td>\n",
       "      <td>0.03</td>\n",
       "      <td>0.04</td>\n",
       "    </tr>\n",
       "    <tr>\n",
       "      <th>price</th>\n",
       "      <td>0.03</td>\n",
       "      <td>1.00</td>\n",
       "      <td>0.31</td>\n",
       "      <td>0.53</td>\n",
       "      <td>0.70</td>\n",
       "      <td>0.09</td>\n",
       "      <td>0.27</td>\n",
       "      <td>0.61</td>\n",
       "      <td>0.78</td>\n",
       "    </tr>\n",
       "    <tr>\n",
       "      <th>bedrooms</th>\n",
       "      <td>0.01</td>\n",
       "      <td>0.31</td>\n",
       "      <td>1.00</td>\n",
       "      <td>0.52</td>\n",
       "      <td>0.58</td>\n",
       "      <td>0.03</td>\n",
       "      <td>-0.01</td>\n",
       "      <td>0.26</td>\n",
       "      <td>0.33</td>\n",
       "    </tr>\n",
       "    <tr>\n",
       "      <th>bathrooms</th>\n",
       "      <td>0.11</td>\n",
       "      <td>0.53</td>\n",
       "      <td>0.52</td>\n",
       "      <td>1.00</td>\n",
       "      <td>0.75</td>\n",
       "      <td>0.09</td>\n",
       "      <td>0.06</td>\n",
       "      <td>0.40</td>\n",
       "      <td>0.51</td>\n",
       "    </tr>\n",
       "    <tr>\n",
       "      <th>sqm_living</th>\n",
       "      <td>0.04</td>\n",
       "      <td>0.70</td>\n",
       "      <td>0.58</td>\n",
       "      <td>0.75</td>\n",
       "      <td>1.00</td>\n",
       "      <td>0.17</td>\n",
       "      <td>0.10</td>\n",
       "      <td>0.50</td>\n",
       "      <td>0.64</td>\n",
       "    </tr>\n",
       "    <tr>\n",
       "      <th>sqm_lot</th>\n",
       "      <td>-0.03</td>\n",
       "      <td>0.09</td>\n",
       "      <td>0.03</td>\n",
       "      <td>0.09</td>\n",
       "      <td>0.17</td>\n",
       "      <td>1.00</td>\n",
       "      <td>0.02</td>\n",
       "      <td>0.08</td>\n",
       "      <td>0.10</td>\n",
       "    </tr>\n",
       "    <tr>\n",
       "      <th>waterfront</th>\n",
       "      <td>-0.01</td>\n",
       "      <td>0.27</td>\n",
       "      <td>-0.01</td>\n",
       "      <td>0.06</td>\n",
       "      <td>0.10</td>\n",
       "      <td>0.02</td>\n",
       "      <td>1.00</td>\n",
       "      <td>0.08</td>\n",
       "      <td>0.12</td>\n",
       "    </tr>\n",
       "    <tr>\n",
       "      <th>price&gt;med_price</th>\n",
       "      <td>0.03</td>\n",
       "      <td>0.61</td>\n",
       "      <td>0.26</td>\n",
       "      <td>0.40</td>\n",
       "      <td>0.50</td>\n",
       "      <td>0.08</td>\n",
       "      <td>0.08</td>\n",
       "      <td>1.00</td>\n",
       "      <td>0.87</td>\n",
       "    </tr>\n",
       "    <tr>\n",
       "      <th>rank_price</th>\n",
       "      <td>0.04</td>\n",
       "      <td>0.78</td>\n",
       "      <td>0.33</td>\n",
       "      <td>0.51</td>\n",
       "      <td>0.64</td>\n",
       "      <td>0.10</td>\n",
       "      <td>0.12</td>\n",
       "      <td>0.87</td>\n",
       "      <td>1.00</td>\n",
       "    </tr>\n",
       "  </tbody>\n",
       "</table>\n",
       "</div>"
      ],
      "text/plain": [
       "                   id  price  bedrooms  bathrooms  sqm_living  sqm_lot  \\\n",
       "id               1.00   0.03      0.01       0.11        0.04    -0.03   \n",
       "price            0.03   1.00      0.31       0.53        0.70     0.09   \n",
       "bedrooms         0.01   0.31      1.00       0.52        0.58     0.03   \n",
       "bathrooms        0.11   0.53      0.52       1.00        0.75     0.09   \n",
       "sqm_living       0.04   0.70      0.58       0.75        1.00     0.17   \n",
       "sqm_lot         -0.03   0.09      0.03       0.09        0.17     1.00   \n",
       "waterfront      -0.01   0.27     -0.01       0.06        0.10     0.02   \n",
       "price>med_price  0.03   0.61      0.26       0.40        0.50     0.08   \n",
       "rank_price       0.04   0.78      0.33       0.51        0.64     0.10   \n",
       "\n",
       "                 waterfront  price>med_price  rank_price  \n",
       "id                    -0.01             0.03        0.04  \n",
       "price                  0.27             0.61        0.78  \n",
       "bedrooms              -0.01             0.26        0.33  \n",
       "bathrooms              0.06             0.40        0.51  \n",
       "sqm_living             0.10             0.50        0.64  \n",
       "sqm_lot                0.02             0.08        0.10  \n",
       "waterfront             1.00             0.08        0.12  \n",
       "price>med_price        0.08             1.00        0.87  \n",
       "rank_price             0.12             0.87        1.00  "
      ]
     },
     "execution_count": 32,
     "metadata": {},
     "output_type": "execute_result"
    }
   ],
   "source": [
    "#Displaying the strength of the correlations between variables\n",
    "data_copy.corr().round(2)"
   ]
  },
  {
   "cell_type": "markdown",
   "id": "b8669bd6",
   "metadata": {},
   "source": [
    "The correlation matrix shows a moderate to strong positive correlation between 'price' and 'sqm_living', indicating a potential linear relationship where larger living areas are associated with higher prices. \n",
    "\n",
    "A correlation coefficient of 0.70 between 'price' and 'sqm_living' indicates that 70% of the variation in house prices can be linearly explained by changes in the living area, assuming other factors remain constant."
   ]
  },
  {
   "cell_type": "code",
   "execution_count": 33,
   "id": "b1145277",
   "metadata": {},
   "outputs": [
    {
     "data": {
      "text/plain": [
       "Text(0, 0.5, 'price')"
      ]
     },
     "execution_count": 33,
     "metadata": {},
     "output_type": "execute_result"
    },
    {
     "data": {
      "image/png": "[encoded data removed]",
      "text/plain": [
       "<Figure size 432x288 with 1 Axes>"
      ]
     },
     "metadata": {
      "needs_background": "light"
     },
     "output_type": "display_data"
    }
   ],
   "source": [
    "#Plotting a scatterplot to identify the relationship between 'price' and 'sqm_living'\n",
    "plt.scatter(data_copy['sqm_living'],data_copy['price'])\n",
    "\n",
    "# Function to format the y-axis in millions\n",
    "formatter = FuncFormatter(lambda y, _: f'${y / 1e6:.0f} M')\n",
    "\n",
    "# Apply the formatter to the y-axis\n",
    "ax = plt.gca()  # Get the current axes\n",
    "ax.yaxis.set_major_formatter(formatter)\n",
    "\n",
    "plt.xlabel('Living size in square meter')\n",
    "plt.ylabel('price')"
   ]
  },
  {
   "cell_type": "markdown",
   "id": "a4b0eb34",
   "metadata": {},
   "source": [
    "The scatterplot shows a positive linear relationship between 'price' and 'sqm_living', with prices generally increasing as living area size increases. However, the relationship appears to be more complex at higher values of sqm_living, where price variability increases significantly. This suggests that while larger living areas tend to correspond with higher prices, other factors may contribute to price variability in larger homes. The increasing variance of 'price' at higher 'sqm_living' values could even indicate potential non-linearity."
   ]
  },
  {
   "cell_type": "code",
   "execution_count": 34,
   "id": "aecd7d13",
   "metadata": {},
   "outputs": [
    {
     "data": {
      "text/plain": [
       "Text(336.9714285714286, 0.5, 'price')"
      ]
     },
     "execution_count": 34,
     "metadata": {},
     "output_type": "execute_result"
    },
    {
     "data": {
      "image/png": "[encoded data removed]",
      "text/plain": [
       "<Figure size 432x432 with 3 Axes>"
      ]
     },
     "metadata": {
      "needs_background": "light"
     },
     "output_type": "display_data"
    }
   ],
   "source": [
    "#Plotting a scatterplot to identify the relationship between 'price' and 'sqm_living'- with regression trend line fitted\n",
    "sns.jointplot(x=data_copy['sqm_living'], y=data_copy['price'], kind=\"reg\")\n",
    "\n",
    "# Apply the formatter to the y-axis\n",
    "ax = plt.gca()  # Get the current axes\n",
    "ax.yaxis.set_major_formatter(formatter)\n",
    "\n",
    "plt.xlabel('Living size in square meter')\n",
    "plt.ylabel('price')\n",
    "\n",
    "#plt.show()"
   ]
  },
  {
   "cell_type": "markdown",
   "id": "3e46f3ff",
   "metadata": {},
   "source": [
    "With the inclusion of a trend line, the jointplot confirms a clear, positive linear relationship between 'price' and 'sqm_living'. Setting the kind parameter to 'reg' fits a best-fit regression trend line based on the data provided.\n",
    "\n",
    "The shaded areas on the top and the right line shows the distribution of 'sqm_living' and 'price' respectively. As seen in the jointplot and the distribution plot of 'price' variable shown in Question 1, 'price' has a highly skewed distribution, particularly right skewed. \n",
    "\n",
    "To solve this, I can apply the logarithmic scale on 'price' so that the variability in this variable can be reduced."
   ]
  },
  {
   "cell_type": "code",
   "execution_count": 35,
   "id": "af2d1a6f",
   "metadata": {},
   "outputs": [
    {
     "data": {
      "text/html": [
       "<div>\n",
       "<style scoped>\n",
       "    .dataframe tbody tr th:only-of-type {\n",
       "        vertical-align: middle;\n",
       "    }\n",
       "\n",
       "    .dataframe tbody tr th {\n",
       "        vertical-align: top;\n",
       "    }\n",
       "\n",
       "    .dataframe thead th {\n",
       "        text-align: right;\n",
       "    }\n",
       "</style>\n",
       "<table border=\"1\" class=\"dataframe\">\n",
       "  <thead>\n",
       "    <tr style=\"text-align: right;\">\n",
       "      <th></th>\n",
       "      <th>id</th>\n",
       "      <th>price</th>\n",
       "      <th>bedrooms</th>\n",
       "      <th>bathrooms</th>\n",
       "      <th>sqm_living</th>\n",
       "      <th>sqm_lot</th>\n",
       "      <th>waterfront</th>\n",
       "      <th>price&gt;med_price</th>\n",
       "      <th>rank_price</th>\n",
       "      <th>log_price</th>\n",
       "    </tr>\n",
       "  </thead>\n",
       "  <tbody>\n",
       "    <tr>\n",
       "      <th>0</th>\n",
       "      <td>1</td>\n",
       "      <td>221900</td>\n",
       "      <td>3</td>\n",
       "      <td>1.00</td>\n",
       "      <td>109.624675</td>\n",
       "      <td>524.897807</td>\n",
       "      <td>0</td>\n",
       "      <td>0</td>\n",
       "      <td>1371.5</td>\n",
       "      <td>12.309982</td>\n",
       "    </tr>\n",
       "    <tr>\n",
       "      <th>1</th>\n",
       "      <td>2</td>\n",
       "      <td>538000</td>\n",
       "      <td>3</td>\n",
       "      <td>2.25</td>\n",
       "      <td>238.758826</td>\n",
       "      <td>672.798216</td>\n",
       "      <td>0</td>\n",
       "      <td>1</td>\n",
       "      <td>13559.5</td>\n",
       "      <td>13.195614</td>\n",
       "    </tr>\n",
       "    <tr>\n",
       "      <th>2</th>\n",
       "      <td>3</td>\n",
       "      <td>180000</td>\n",
       "      <td>2</td>\n",
       "      <td>1.00</td>\n",
       "      <td>71.534745</td>\n",
       "      <td>929.022668</td>\n",
       "      <td>0</td>\n",
       "      <td>0</td>\n",
       "      <td>487.0</td>\n",
       "      <td>12.100712</td>\n",
       "    </tr>\n",
       "    <tr>\n",
       "      <th>3</th>\n",
       "      <td>4</td>\n",
       "      <td>604000</td>\n",
       "      <td>4</td>\n",
       "      <td>3.00</td>\n",
       "      <td>182.088443</td>\n",
       "      <td>464.511334</td>\n",
       "      <td>0</td>\n",
       "      <td>1</td>\n",
       "      <td>15382.0</td>\n",
       "      <td>13.311329</td>\n",
       "    </tr>\n",
       "    <tr>\n",
       "      <th>4</th>\n",
       "      <td>5</td>\n",
       "      <td>510000</td>\n",
       "      <td>3</td>\n",
       "      <td>2.00</td>\n",
       "      <td>156.075808</td>\n",
       "      <td>750.650316</td>\n",
       "      <td>0</td>\n",
       "      <td>1</td>\n",
       "      <td>12738.5</td>\n",
       "      <td>13.142166</td>\n",
       "    </tr>\n",
       "    <tr>\n",
       "      <th>...</th>\n",
       "      <td>...</td>\n",
       "      <td>...</td>\n",
       "      <td>...</td>\n",
       "      <td>...</td>\n",
       "      <td>...</td>\n",
       "      <td>...</td>\n",
       "      <td>...</td>\n",
       "      <td>...</td>\n",
       "      <td>...</td>\n",
       "      <td>...</td>\n",
       "    </tr>\n",
       "    <tr>\n",
       "      <th>21596</th>\n",
       "      <td>21596</td>\n",
       "      <td>520000</td>\n",
       "      <td>2</td>\n",
       "      <td>2.25</td>\n",
       "      <td>142.140468</td>\n",
       "      <td>91.137124</td>\n",
       "      <td>0</td>\n",
       "      <td>1</td>\n",
       "      <td>13003.0</td>\n",
       "      <td>13.161584</td>\n",
       "    </tr>\n",
       "    <tr>\n",
       "      <th>21597</th>\n",
       "      <td>21597</td>\n",
       "      <td>679950</td>\n",
       "      <td>5</td>\n",
       "      <td>2.75</td>\n",
       "      <td>334.448160</td>\n",
       "      <td>876.718692</td>\n",
       "      <td>0</td>\n",
       "      <td>1</td>\n",
       "      <td>16872.0</td>\n",
       "      <td>13.429775</td>\n",
       "    </tr>\n",
       "    <tr>\n",
       "      <th>21598</th>\n",
       "      <td>21598</td>\n",
       "      <td>1575000</td>\n",
       "      <td>4</td>\n",
       "      <td>3.25</td>\n",
       "      <td>316.796730</td>\n",
       "      <td>940.635452</td>\n",
       "      <td>0</td>\n",
       "      <td>1</td>\n",
       "      <td>21137.0</td>\n",
       "      <td>14.269766</td>\n",
       "    </tr>\n",
       "    <tr>\n",
       "      <th>21599</th>\n",
       "      <td>21599</td>\n",
       "      <td>541800</td>\n",
       "      <td>4</td>\n",
       "      <td>2.50</td>\n",
       "      <td>289.669268</td>\n",
       "      <td>730.769231</td>\n",
       "      <td>0</td>\n",
       "      <td>1</td>\n",
       "      <td>13696.0</td>\n",
       "      <td>13.202652</td>\n",
       "    </tr>\n",
       "    <tr>\n",
       "      <th>21600</th>\n",
       "      <td>21600</td>\n",
       "      <td>810000</td>\n",
       "      <td>4</td>\n",
       "      <td>3.00</td>\n",
       "      <td>370.680045</td>\n",
       "      <td>728.167967</td>\n",
       "      <td>0</td>\n",
       "      <td>1</td>\n",
       "      <td>18742.0</td>\n",
       "      <td>13.604790</td>\n",
       "    </tr>\n",
       "  </tbody>\n",
       "</table>\n",
       "<p>21600 rows × 10 columns</p>\n",
       "</div>"
      ],
      "text/plain": [
       "          id    price  bedrooms  bathrooms  sqm_living     sqm_lot  \\\n",
       "0          1   221900         3       1.00  109.624675  524.897807   \n",
       "1          2   538000         3       2.25  238.758826  672.798216   \n",
       "2          3   180000         2       1.00   71.534745  929.022668   \n",
       "3          4   604000         4       3.00  182.088443  464.511334   \n",
       "4          5   510000         3       2.00  156.075808  750.650316   \n",
       "...      ...      ...       ...        ...         ...         ...   \n",
       "21596  21596   520000         2       2.25  142.140468   91.137124   \n",
       "21597  21597   679950         5       2.75  334.448160  876.718692   \n",
       "21598  21598  1575000         4       3.25  316.796730  940.635452   \n",
       "21599  21599   541800         4       2.50  289.669268  730.769231   \n",
       "21600  21600   810000         4       3.00  370.680045  728.167967   \n",
       "\n",
       "       waterfront  price>med_price  rank_price  log_price  \n",
       "0               0                0      1371.5  12.309982  \n",
       "1               0                1     13559.5  13.195614  \n",
       "2               0                0       487.0  12.100712  \n",
       "3               0                1     15382.0  13.311329  \n",
       "4               0                1     12738.5  13.142166  \n",
       "...           ...              ...         ...        ...  \n",
       "21596           0                1     13003.0  13.161584  \n",
       "21597           0                1     16872.0  13.429775  \n",
       "21598           0                1     21137.0  14.269766  \n",
       "21599           0                1     13696.0  13.202652  \n",
       "21600           0                1     18742.0  13.604790  \n",
       "\n",
       "[21600 rows x 10 columns]"
      ]
     },
     "execution_count": 35,
     "metadata": {},
     "output_type": "execute_result"
    }
   ],
   "source": [
    "#Creating a new column named 'log_price' to store the logarithmic transformation of prices\n",
    "data_copy['log_price'] = np.log(data_copy['price'])\n",
    "data_copy"
   ]
  },
  {
   "cell_type": "code",
   "execution_count": 36,
   "id": "d724c8f2",
   "metadata": {},
   "outputs": [
    {
     "data": {
      "image/png": "[encoded data removed]",
      "text/plain": [
       "<Figure size 432x432 with 3 Axes>"
      ]
     },
     "metadata": {
      "needs_background": "light"
     },
     "output_type": "display_data"
    }
   ],
   "source": [
    "#Plotting a scatterplot to identify the relationship between 'log_price' and 'sqm_living'\n",
    "#- with regression trend line fitted\n",
    "sns.jointplot(x=data_copy['sqm_living'], y=data_copy['log_price'], kind=\"reg\")\n",
    "\n",
    "plt.xlabel('Living size in square meter')\n",
    "plt.ylabel('Log of Price')\n",
    "plt.show()"
   ]
  },
  {
   "cell_type": "markdown",
   "id": "24ea6046",
   "metadata": {},
   "source": [
    "By transforming 'price' to 'log_price', the distribution of prices has become more normalized, reducing the right skewness observed in the original 'price' distribution. This transformation helps to stabilize the variance, making the distribution more symmetric and easier to model using linear regression.\n",
    "\n",
    "Furthermore, the relationship between 'log_price' and 'sqm_living' appears more linear and consistent across different living area sizes. The transformation of 'price' has reduced the variability seen in the scatterplot and jointplot, particularly at higher values of 'sqm_living'. This results in a tighter clustering of data points around the regression line, indicating a stronger linear relationship between 'log_price' and 'sqm_living' compared to the original 'price' variable."
   ]
  },
  {
   "cell_type": "markdown",
   "id": "87abc5a9",
   "metadata": {},
   "source": [
    "## Question 5"
   ]
  },
  {
   "cell_type": "code",
   "execution_count": 37,
   "id": "29205c1d",
   "metadata": {},
   "outputs": [
    {
     "data": {
      "text/html": [
       "<div>\n",
       "<style scoped>\n",
       "    .dataframe tbody tr th:only-of-type {\n",
       "        vertical-align: middle;\n",
       "    }\n",
       "\n",
       "    .dataframe tbody tr th {\n",
       "        vertical-align: top;\n",
       "    }\n",
       "\n",
       "    .dataframe thead th {\n",
       "        text-align: right;\n",
       "    }\n",
       "</style>\n",
       "<table border=\"1\" class=\"dataframe\">\n",
       "  <thead>\n",
       "    <tr style=\"text-align: right;\">\n",
       "      <th></th>\n",
       "      <th>price</th>\n",
       "      <th>sqm_living</th>\n",
       "    </tr>\n",
       "  </thead>\n",
       "  <tbody>\n",
       "    <tr>\n",
       "      <th>0</th>\n",
       "      <td>221900</td>\n",
       "      <td>109.624675</td>\n",
       "    </tr>\n",
       "    <tr>\n",
       "      <th>1</th>\n",
       "      <td>538000</td>\n",
       "      <td>238.758826</td>\n",
       "    </tr>\n",
       "    <tr>\n",
       "      <th>2</th>\n",
       "      <td>180000</td>\n",
       "      <td>71.534745</td>\n",
       "    </tr>\n",
       "    <tr>\n",
       "      <th>3</th>\n",
       "      <td>604000</td>\n",
       "      <td>182.088443</td>\n",
       "    </tr>\n",
       "    <tr>\n",
       "      <th>4</th>\n",
       "      <td>510000</td>\n",
       "      <td>156.075808</td>\n",
       "    </tr>\n",
       "    <tr>\n",
       "      <th>...</th>\n",
       "      <td>...</td>\n",
       "      <td>...</td>\n",
       "    </tr>\n",
       "    <tr>\n",
       "      <th>21596</th>\n",
       "      <td>520000</td>\n",
       "      <td>142.140468</td>\n",
       "    </tr>\n",
       "    <tr>\n",
       "      <th>21597</th>\n",
       "      <td>679950</td>\n",
       "      <td>334.448160</td>\n",
       "    </tr>\n",
       "    <tr>\n",
       "      <th>21598</th>\n",
       "      <td>1575000</td>\n",
       "      <td>316.796730</td>\n",
       "    </tr>\n",
       "    <tr>\n",
       "      <th>21599</th>\n",
       "      <td>541800</td>\n",
       "      <td>289.669268</td>\n",
       "    </tr>\n",
       "    <tr>\n",
       "      <th>21600</th>\n",
       "      <td>810000</td>\n",
       "      <td>370.680045</td>\n",
       "    </tr>\n",
       "  </tbody>\n",
       "</table>\n",
       "<p>21600 rows × 2 columns</p>\n",
       "</div>"
      ],
      "text/plain": [
       "         price  sqm_living\n",
       "0       221900  109.624675\n",
       "1       538000  238.758826\n",
       "2       180000   71.534745\n",
       "3       604000  182.088443\n",
       "4       510000  156.075808\n",
       "...        ...         ...\n",
       "21596   520000  142.140468\n",
       "21597   679950  334.448160\n",
       "21598  1575000  316.796730\n",
       "21599   541800  289.669268\n",
       "21600   810000  370.680045\n",
       "\n",
       "[21600 rows x 2 columns]"
      ]
     },
     "execution_count": 37,
     "metadata": {},
     "output_type": "execute_result"
    }
   ],
   "source": [
    "#Creating a copy of the 'data_copy' DataFrame consisting of only 2 variables used for OLS and LAD\n",
    "reg_data = data_copy[['price', 'sqm_living']].dropna()\n",
    "reg_data"
   ]
  },
  {
   "cell_type": "code",
   "execution_count": 38,
   "id": "fd459f59",
   "metadata": {},
   "outputs": [
    {
     "data": {
      "text/html": [
       "<table class=\"simpletable\">\n",
       "<caption>OLS Regression Results</caption>\n",
       "<tr>\n",
       "  <th>Dep. Variable:</th>          <td>price</td>      <th>  R-squared:         </th>  <td>   0.493</td>  \n",
       "</tr>\n",
       "<tr>\n",
       "  <th>Model:</th>                   <td>OLS</td>       <th>  Adj. R-squared:    </th>  <td>   0.493</td>  \n",
       "</tr>\n",
       "<tr>\n",
       "  <th>Method:</th>             <td>Least Squares</td>  <th>  F-statistic:       </th>  <td>2.098e+04</td> \n",
       "</tr>\n",
       "<tr>\n",
       "  <th>Date:</th>             <td>Fri, 06 Sep 2024</td> <th>  Prob (F-statistic):</th>   <td>  0.00</td>   \n",
       "</tr>\n",
       "<tr>\n",
       "  <th>Time:</th>                 <td>00:52:45</td>     <th>  Log-Likelihood:    </th> <td>-3.0009e+05</td>\n",
       "</tr>\n",
       "<tr>\n",
       "  <th>No. Observations:</th>      <td> 21600</td>      <th>  AIC:               </th>  <td>6.002e+05</td> \n",
       "</tr>\n",
       "<tr>\n",
       "  <th>Df Residuals:</th>          <td> 21598</td>      <th>  BIC:               </th>  <td>6.002e+05</td> \n",
       "</tr>\n",
       "<tr>\n",
       "  <th>Df Model:</th>              <td>     1</td>      <th>                     </th>      <td> </td>     \n",
       "</tr>\n",
       "<tr>\n",
       "  <th>Covariance Type:</th>      <td>nonrobust</td>    <th>                     </th>      <td> </td>     \n",
       "</tr>\n",
       "</table>\n",
       "<table class=\"simpletable\">\n",
       "<tr>\n",
       "       <td></td>         <th>coef</th>     <th>std err</th>      <th>t</th>      <th>P>|t|</th>  <th>[0.025</th>    <th>0.975]</th>  \n",
       "</tr>\n",
       "<tr>\n",
       "  <th>Intercept</th>  <td>-4.355e+04</td> <td> 4405.201</td> <td>   -9.887</td> <td> 0.000</td> <td>-5.22e+04</td> <td>-3.49e+04</td>\n",
       "</tr>\n",
       "<tr>\n",
       "  <th>sqm_living</th> <td> 3020.3863</td> <td>   20.855</td> <td>  144.828</td> <td> 0.000</td> <td> 2979.509</td> <td> 3061.264</td>\n",
       "</tr>\n",
       "</table>\n",
       "<table class=\"simpletable\">\n",
       "<tr>\n",
       "  <th>Omnibus:</th>       <td>14824.811</td> <th>  Durbin-Watson:     </th>  <td>   1.982</td> \n",
       "</tr>\n",
       "<tr>\n",
       "  <th>Prob(Omnibus):</th>  <td> 0.000</td>   <th>  Jarque-Bera (JB):  </th> <td>546032.506</td>\n",
       "</tr>\n",
       "<tr>\n",
       "  <th>Skew:</th>           <td> 2.824</td>   <th>  Prob(JB):          </th>  <td>    0.00</td> \n",
       "</tr>\n",
       "<tr>\n",
       "  <th>Kurtosis:</th>       <td>26.975</td>   <th>  Cond. No.          </th>  <td>    523.</td> \n",
       "</tr>\n",
       "</table><br/><br/>Notes:<br/>[1] Standard Errors assume that the covariance matrix of the errors is correctly specified."
      ],
      "text/plain": [
       "<class 'statsmodels.iolib.summary.Summary'>\n",
       "\"\"\"\n",
       "                            OLS Regression Results                            \n",
       "==============================================================================\n",
       "Dep. Variable:                  price   R-squared:                       0.493\n",
       "Model:                            OLS   Adj. R-squared:                  0.493\n",
       "Method:                 Least Squares   F-statistic:                 2.098e+04\n",
       "Date:                Fri, 06 Sep 2024   Prob (F-statistic):               0.00\n",
       "Time:                        00:52:45   Log-Likelihood:            -3.0009e+05\n",
       "No. Observations:               21600   AIC:                         6.002e+05\n",
       "Df Residuals:                   21598   BIC:                         6.002e+05\n",
       "Df Model:                           1                                         \n",
       "Covariance Type:            nonrobust                                         \n",
       "==============================================================================\n",
       "                 coef    std err          t      P>|t|      [0.025      0.975]\n",
       "------------------------------------------------------------------------------\n",
       "Intercept  -4.355e+04   4405.201     -9.887      0.000   -5.22e+04   -3.49e+04\n",
       "sqm_living  3020.3863     20.855    144.828      0.000    2979.509    3061.264\n",
       "==============================================================================\n",
       "Omnibus:                    14824.811   Durbin-Watson:                   1.982\n",
       "Prob(Omnibus):                  0.000   Jarque-Bera (JB):           546032.506\n",
       "Skew:                           2.824   Prob(JB):                         0.00\n",
       "Kurtosis:                      26.975   Cond. No.                         523.\n",
       "==============================================================================\n",
       "\n",
       "Notes:\n",
       "[1] Standard Errors assume that the covariance matrix of the errors is correctly specified.\n",
       "\"\"\""
      ]
     },
     "execution_count": 38,
     "metadata": {},
     "output_type": "execute_result"
    }
   ],
   "source": [
    "#Fitting the OLS model\n",
    "reg = smf.ols(formula='price ~ sqm_living', data=reg_data).fit()\n",
    "reg.summary()"
   ]
  },
  {
   "cell_type": "markdown",
   "id": "87a3aec5",
   "metadata": {},
   "source": [
    "As part of a comprehensive regression analysis, I am going to perform hypothesis testing to test the assumptions.\n",
    "\n",
    "In question 5, the objective is to assess the relationship between house prices and living area size, which doesn’t have an inherent directional hypothesis (e.g., \"larger living area should increase house price\"). Therefore, a two-sided hypothesis testing is appropriate here."
   ]
  },
  {
   "cell_type": "code",
   "execution_count": 39,
   "id": "0ec04976",
   "metadata": {},
   "outputs": [
    {
     "name": "stdout",
     "output_type": "stream",
     "text": [
      "                             Test for Constraints                             \n",
      "==============================================================================\n",
      "                 coef    std err          t      P>|t|      [0.025      0.975]\n",
      "------------------------------------------------------------------------------\n",
      "c0          3020.3863     20.855    144.828      0.000    2979.509    3061.264\n",
      "==============================================================================\n"
     ]
    }
   ],
   "source": [
    "#Performing t-test on the OLS model\n",
    "hypothesis_reg = 'sqm_living = 0'\n",
    "t_test_reg = reg.t_test(hypothesis_reg)  # 2-sided t-test  H0: beta_1 = 0\n",
    "print(t_test_reg)"
   ]
  },
  {
   "cell_type": "markdown",
   "id": "e54a3249",
   "metadata": {},
   "source": [
    "As explained previously, since no direction is given in the question, the null hypothesis is\n",
    "\n",
    "$H_0: \\beta_1 = 0$ \n",
    "$H_1: \\beta_1 \\neq 0$,\n",
    "\n",
    "\n",
    "I set $\\alpha = 0.05$ as standard. The $t-stat = \\frac{\\hat{\\beta_1}}{SE (\\hat{\\beta_1})} = \\frac{3020.3863}{20.855} = 144.828$, with 21600 - 2 = 21598 degrees of freedom. The two-sided p-value is $2 \\times P(t_{21598} > 144.828) = 0.000$. Since p-val < 0.05 I reject the null and conclude that there is a significant relationship between prices and the size of living area.\n",
    "\n",
    "This test assumed all 5 LSA, including a constant error variance."
   ]
  },
  {
   "cell_type": "markdown",
   "id": "e46a7b9f",
   "metadata": {},
   "source": [
    "Next I refit the model using heteroskedasticity-robust SEs. Parameter estimates are exactly the same (as expected), but SEs, t-tstas, and Confidnece Intervals have all changed. SEs are larger than before (SE for sqm_living in the heteroskedasticity-robust OLS is 60.825, compared to 20.855 in the original OLS model). \n",
    "\n",
    "The following test assumed only LSA 1-4, allowing a non-constant error variance."
   ]
  },
  {
   "cell_type": "code",
   "execution_count": 40,
   "id": "0a1965fd",
   "metadata": {},
   "outputs": [
    {
     "data": {
      "text/html": [
       "<table class=\"simpletable\">\n",
       "<caption>OLS Regression Results</caption>\n",
       "<tr>\n",
       "  <th>Dep. Variable:</th>          <td>price</td>      <th>  R-squared:         </th>  <td>   0.493</td>  \n",
       "</tr>\n",
       "<tr>\n",
       "  <th>Model:</th>                   <td>OLS</td>       <th>  Adj. R-squared:    </th>  <td>   0.493</td>  \n",
       "</tr>\n",
       "<tr>\n",
       "  <th>Method:</th>             <td>Least Squares</td>  <th>  F-statistic:       </th>  <td>   2466.</td>  \n",
       "</tr>\n",
       "<tr>\n",
       "  <th>Date:</th>             <td>Fri, 06 Sep 2024</td> <th>  Prob (F-statistic):</th>   <td>  0.00</td>   \n",
       "</tr>\n",
       "<tr>\n",
       "  <th>Time:</th>                 <td>00:52:45</td>     <th>  Log-Likelihood:    </th> <td>-3.0009e+05</td>\n",
       "</tr>\n",
       "<tr>\n",
       "  <th>No. Observations:</th>      <td> 21600</td>      <th>  AIC:               </th>  <td>6.002e+05</td> \n",
       "</tr>\n",
       "<tr>\n",
       "  <th>Df Residuals:</th>          <td> 21598</td>      <th>  BIC:               </th>  <td>6.002e+05</td> \n",
       "</tr>\n",
       "<tr>\n",
       "  <th>Df Model:</th>              <td>     1</td>      <th>                     </th>      <td> </td>     \n",
       "</tr>\n",
       "<tr>\n",
       "  <th>Covariance Type:</th>         <td>HC0</td>       <th>                     </th>      <td> </td>     \n",
       "</tr>\n",
       "</table>\n",
       "<table class=\"simpletable\">\n",
       "<tr>\n",
       "       <td></td>         <th>coef</th>     <th>std err</th>      <th>z</th>      <th>P>|z|</th>  <th>[0.025</th>    <th>0.975]</th>  \n",
       "</tr>\n",
       "<tr>\n",
       "  <th>Intercept</th>  <td>-4.355e+04</td> <td> 1.08e+04</td> <td>   -4.031</td> <td> 0.000</td> <td>-6.47e+04</td> <td>-2.24e+04</td>\n",
       "</tr>\n",
       "<tr>\n",
       "  <th>sqm_living</th> <td> 3020.3863</td> <td>   60.825</td> <td>   49.657</td> <td> 0.000</td> <td> 2901.172</td> <td> 3139.601</td>\n",
       "</tr>\n",
       "</table>\n",
       "<table class=\"simpletable\">\n",
       "<tr>\n",
       "  <th>Omnibus:</th>       <td>14824.811</td> <th>  Durbin-Watson:     </th>  <td>   1.982</td> \n",
       "</tr>\n",
       "<tr>\n",
       "  <th>Prob(Omnibus):</th>  <td> 0.000</td>   <th>  Jarque-Bera (JB):  </th> <td>546032.506</td>\n",
       "</tr>\n",
       "<tr>\n",
       "  <th>Skew:</th>           <td> 2.824</td>   <th>  Prob(JB):          </th>  <td>    0.00</td> \n",
       "</tr>\n",
       "<tr>\n",
       "  <th>Kurtosis:</th>       <td>26.975</td>   <th>  Cond. No.          </th>  <td>    523.</td> \n",
       "</tr>\n",
       "</table><br/><br/>Notes:<br/>[1] Standard Errors are heteroscedasticity robust (HC0)"
      ],
      "text/plain": [
       "<class 'statsmodels.iolib.summary.Summary'>\n",
       "\"\"\"\n",
       "                            OLS Regression Results                            \n",
       "==============================================================================\n",
       "Dep. Variable:                  price   R-squared:                       0.493\n",
       "Model:                            OLS   Adj. R-squared:                  0.493\n",
       "Method:                 Least Squares   F-statistic:                     2466.\n",
       "Date:                Fri, 06 Sep 2024   Prob (F-statistic):               0.00\n",
       "Time:                        00:52:45   Log-Likelihood:            -3.0009e+05\n",
       "No. Observations:               21600   AIC:                         6.002e+05\n",
       "Df Residuals:                   21598   BIC:                         6.002e+05\n",
       "Df Model:                           1                                         \n",
       "Covariance Type:                  HC0                                         \n",
       "==============================================================================\n",
       "                 coef    std err          z      P>|z|      [0.025      0.975]\n",
       "------------------------------------------------------------------------------\n",
       "Intercept  -4.355e+04   1.08e+04     -4.031      0.000   -6.47e+04   -2.24e+04\n",
       "sqm_living  3020.3863     60.825     49.657      0.000    2901.172    3139.601\n",
       "==============================================================================\n",
       "Omnibus:                    14824.811   Durbin-Watson:                   1.982\n",
       "Prob(Omnibus):                  0.000   Jarque-Bera (JB):           546032.506\n",
       "Skew:                           2.824   Prob(JB):                         0.00\n",
       "Kurtosis:                      26.975   Cond. No.                         523.\n",
       "==============================================================================\n",
       "\n",
       "Notes:\n",
       "[1] Standard Errors are heteroscedasticity robust (HC0)\n",
       "\"\"\""
      ]
     },
     "execution_count": 40,
     "metadata": {},
     "output_type": "execute_result"
    }
   ],
   "source": [
    "reg2 = smf.ols(formula='price ~ sqm_living', data=data_copy).fit(cov_type='HC0')\n",
    "reg2.summary()"
   ]
  },
  {
   "cell_type": "code",
   "execution_count": 41,
   "id": "a3ee3ce0",
   "metadata": {},
   "outputs": [
    {
     "name": "stdout",
     "output_type": "stream",
     "text": [
      "                             Test for Constraints                             \n",
      "==============================================================================\n",
      "                 coef    std err          z      P>|z|      [0.025      0.975]\n",
      "------------------------------------------------------------------------------\n",
      "c0          3020.3863     60.825     49.657      0.000    2901.172    3139.601\n",
      "==============================================================================\n"
     ]
    }
   ],
   "source": [
    "hypothesis_reg2 = 'sqm_living = 0'\n",
    "t_test_reg2 = reg2.t_test(hypothesis_reg2)  # 2-sided t-test  H0: beta_1 = 0\n",
    "print(t_test_reg2)"
   ]
  },
  {
   "cell_type": "markdown",
   "id": "3223664b",
   "metadata": {},
   "source": [
    "The hypotheses are the same as before:\n",
    "\n",
    "$H_0: \\beta_1 = 0$ \n",
    "$H_1: \\beta_1 \\neq 0$,\n",
    " \n",
    "I set $\\alpha = 0.05$ as standard. The $z-stat = \\frac{\\hat{\\beta_1}}{SE (\\hat{\\beta_1})} = \\frac{3020.3863}{60.825} = 49.657$, with 21600 - 2 = 21598 degrees of freedom. The two-sided p-value is $2 \\times P(z_{21598} > 49.657) = 0.000$. Since p-val < 0.05 I reject the null and conclude that there is a significant relationship between prices and the size of living area.\n",
    "\n",
    "This test assumed the first 4 LSA only.\n",
    "\n"
   ]
  },
  {
   "cell_type": "code",
   "execution_count": null,
   "id": "d4fad848",
   "metadata": {},
   "outputs": [],
   "source": []
  },
  {
   "cell_type": "markdown",
   "id": "c0d48f45",
   "metadata": {},
   "source": [
    "Since both tests assumed that LSA 4 was satisfied, the large number of outliers in the sample (as seen in previous visualisations i.e box plots and histograms of the 'price' variable or scatterplot displaying the relationship between 'price' and 'sqm_living') make me question the validity of both OLS tests. This highlights the need to construct the LAD estimator, which is more resilient to the effects of outliers in the sample data."
   ]
  },
  {
   "cell_type": "code",
   "execution_count": null,
   "id": "de03d4bc",
   "metadata": {},
   "outputs": [],
   "source": []
  },
  {
   "cell_type": "code",
   "execution_count": null,
   "id": "75c41848",
   "metadata": {},
   "outputs": [],
   "source": []
  },
  {
   "cell_type": "code",
   "execution_count": null,
   "id": "b1717a72",
   "metadata": {},
   "outputs": [],
   "source": []
  },
  {
   "cell_type": "code",
   "execution_count": 42,
   "id": "98204a46",
   "metadata": {},
   "outputs": [
    {
     "data": {
      "text/html": [
       "<table class=\"simpletable\">\n",
       "<caption>QuantReg Regression Results</caption>\n",
       "<tr>\n",
       "  <th>Dep. Variable:</th>       <td>price</td>      <th>  Pseudo R-squared:  </th> <td>  0.2480</td> \n",
       "</tr>\n",
       "<tr>\n",
       "  <th>Model:</th>             <td>QuantReg</td>     <th>  Bandwidth:         </th> <td>3.152e+04</td>\n",
       "</tr>\n",
       "<tr>\n",
       "  <th>Method:</th>          <td>Least Squares</td>  <th>  Sparsity:          </th> <td>4.836e+05</td>\n",
       "</tr>\n",
       "<tr>\n",
       "  <th>Date:</th>          <td>Fri, 06 Sep 2024</td> <th>  No. Observations:  </th>  <td> 21600</td>  \n",
       "</tr>\n",
       "<tr>\n",
       "  <th>Time:</th>              <td>00:52:46</td>     <th>  Df Residuals:      </th>  <td> 21598</td>  \n",
       "</tr>\n",
       "<tr>\n",
       "  <th> </th>                      <td> </td>        <th>  Df Model:          </th>  <td>     1</td>  \n",
       "</tr>\n",
       "</table>\n",
       "<table class=\"simpletable\">\n",
       "<tr>\n",
       "       <td></td>         <th>coef</th>     <th>std err</th>      <th>t</th>      <th>P>|t|</th>  <th>[0.025</th>    <th>0.975]</th>  \n",
       "</tr>\n",
       "<tr>\n",
       "  <th>Intercept</th>  <td> 5.283e+04</td> <td> 4072.816</td> <td>   12.972</td> <td> 0.000</td> <td> 4.49e+04</td> <td> 6.08e+04</td>\n",
       "</tr>\n",
       "<tr>\n",
       "  <th>sqm_living</th> <td> 2332.2000</td> <td>   19.281</td> <td>  120.956</td> <td> 0.000</td> <td> 2294.407</td> <td> 2369.993</td>\n",
       "</tr>\n",
       "</table>"
      ],
      "text/plain": [
       "<class 'statsmodels.iolib.summary.Summary'>\n",
       "\"\"\"\n",
       "                         QuantReg Regression Results                          \n",
       "==============================================================================\n",
       "Dep. Variable:                  price   Pseudo R-squared:               0.2480\n",
       "Model:                       QuantReg   Bandwidth:                   3.152e+04\n",
       "Method:                 Least Squares   Sparsity:                    4.836e+05\n",
       "Date:                Fri, 06 Sep 2024   No. Observations:                21600\n",
       "Time:                        00:52:46   Df Residuals:                    21598\n",
       "                                        Df Model:                            1\n",
       "==============================================================================\n",
       "                 coef    std err          t      P>|t|      [0.025      0.975]\n",
       "------------------------------------------------------------------------------\n",
       "Intercept   5.283e+04   4072.816     12.972      0.000    4.49e+04    6.08e+04\n",
       "sqm_living  2332.2000     19.281    120.956      0.000    2294.407    2369.993\n",
       "==============================================================================\n",
       "\"\"\""
      ]
     },
     "execution_count": 42,
     "metadata": {},
     "output_type": "execute_result"
    }
   ],
   "source": [
    "# now fit model via LAD\n",
    "mod = smf.quantreg('price ~ sqm_living', data=reg_data)\n",
    "res = mod.fit(q=.5)\n",
    "res.summary()"
   ]
  },
  {
   "cell_type": "code",
   "execution_count": null,
   "id": "0476d966",
   "metadata": {},
   "outputs": [],
   "source": []
  }
 ],
 "metadata": {
  "kernelspec": {
   "display_name": "Python 3 (ipykernel)",
   "language": "python",
   "name": "python3"
  },
  "language_info": {
   "codemirror_mode": {
    "name": "ipython",
    "version": 3
   },
   "file_extension": ".py",
   "mimetype": "text/x-python",
   "name": "python",
   "nbconvert_exporter": "python",
   "pygments_lexer": "ipython3",
   "version": "3.8.11"
  }
 },
 "nbformat": 4,
 "nbformat_minor": 5
}
